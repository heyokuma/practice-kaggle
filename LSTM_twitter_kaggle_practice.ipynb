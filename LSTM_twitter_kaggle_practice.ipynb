{
 "cells": [
  {
   "cell_type": "markdown",
   "metadata": {},
   "source": [
    "# import `library` and `data`"
   ]
  },
  {
   "cell_type": "code",
   "execution_count": 1,
   "metadata": {
    "ExecuteTime": {
     "end_time": "2019-07-03T09:05:52.561880Z",
     "start_time": "2019-07-03T09:05:39.232790Z"
    }
   },
   "outputs": [
    {
     "name": "stderr",
     "output_type": "stream",
     "text": [
      "C:\\Users\\1809019\\AppData\\Local\\Continuum\\anaconda3\\envs\\tensorflow\\lib\\site-packages\\h5py\\__init__.py:36: FutureWarning: Conversion of the second argument of issubdtype from `float` to `np.floating` is deprecated. In future, it will be treated as `np.float64 == np.dtype(float).type`.\n",
      "  from ._conv import register_converters as _register_converters\n",
      "Using TensorFlow backend.\n"
     ]
    }
   ],
   "source": [
    "import pandas as pd\n",
    "import numpy as np\n",
    "import re\n",
    "import collections\n",
    "import matplotlib.pyplot as plt\n",
    "from pathlib import Path\n",
    "from sklearn.model_selection import train_test_split\n",
    "from nltk.corpus import stopwords\n",
    "from keras.utils.np_utils import to_categorical\n",
    "import nltk\n",
    "#from textblob import TextBlob\n",
    "from datetime import datetime\n",
    "from nltk.stem import PorterStemmer\n",
    "from nltk.stem import WordNetLemmatizer \n"
   ]
  },
  {
   "cell_type": "code",
   "execution_count": 2,
   "metadata": {
    "ExecuteTime": {
     "end_time": "2019-07-03T09:05:52.595796Z",
     "start_time": "2019-07-03T09:05:52.563878Z"
    }
   },
   "outputs": [],
   "source": [
    "import tensorflow as tf\n",
    "import keras.backend.tensorflow_backend as KTF\n",
    " \n",
    "KTF.set_session(tf.Session(config=tf.ConfigProto(device_count={'gpu':0})))"
   ]
  },
  {
   "cell_type": "code",
   "execution_count": 3,
   "metadata": {
    "ExecuteTime": {
     "end_time": "2019-07-03T09:05:52.957015Z",
     "start_time": "2019-07-03T09:05:52.596789Z"
    }
   },
   "outputs": [
    {
     "data": {
      "text/html": [
       "<div>\n",
       "<style scoped>\n",
       "    .dataframe tbody tr th:only-of-type {\n",
       "        vertical-align: middle;\n",
       "    }\n",
       "\n",
       "    .dataframe tbody tr th {\n",
       "        vertical-align: top;\n",
       "    }\n",
       "\n",
       "    .dataframe thead th {\n",
       "        text-align: right;\n",
       "    }\n",
       "</style>\n",
       "<table border=\"1\" class=\"dataframe\">\n",
       "  <thead>\n",
       "    <tr style=\"text-align: right;\">\n",
       "      <th></th>\n",
       "      <th>ItemID</th>\n",
       "      <th>Sentiment</th>\n",
       "      <th>SentimentText</th>\n",
       "    </tr>\n",
       "  </thead>\n",
       "  <tbody>\n",
       "    <tr>\n",
       "      <th>0</th>\n",
       "      <td>1</td>\n",
       "      <td>0</td>\n",
       "      <td>is so sad for my APL frie...</td>\n",
       "    </tr>\n",
       "    <tr>\n",
       "      <th>1</th>\n",
       "      <td>2</td>\n",
       "      <td>0</td>\n",
       "      <td>I missed the New Moon trail...</td>\n",
       "    </tr>\n",
       "    <tr>\n",
       "      <th>2</th>\n",
       "      <td>3</td>\n",
       "      <td>1</td>\n",
       "      <td>omg its already 7:30 :O</td>\n",
       "    </tr>\n",
       "    <tr>\n",
       "      <th>3</th>\n",
       "      <td>4</td>\n",
       "      <td>0</td>\n",
       "      <td>.. Omgaga. Im sooo  im gunna CRy. I'...</td>\n",
       "    </tr>\n",
       "    <tr>\n",
       "      <th>4</th>\n",
       "      <td>5</td>\n",
       "      <td>0</td>\n",
       "      <td>i think mi bf is cheating on me!!!   ...</td>\n",
       "    </tr>\n",
       "  </tbody>\n",
       "</table>\n",
       "</div>"
      ],
      "text/plain": [
       "   ItemID  Sentiment                                      SentimentText\n",
       "0       1          0                       is so sad for my APL frie...\n",
       "1       2          0                     I missed the New Moon trail...\n",
       "2       3          1                            omg its already 7:30 :O\n",
       "3       4          0            .. Omgaga. Im sooo  im gunna CRy. I'...\n",
       "4       5          0           i think mi bf is cheating on me!!!   ..."
      ]
     },
     "execution_count": 3,
     "metadata": {},
     "output_type": "execute_result"
    }
   ],
   "source": [
    "df = pd.read_csv(\"D:/python/kaggle_twitter_train.csv\", encoding = \"latin\")\n",
    "df.head()"
   ]
  },
  {
   "cell_type": "code",
   "execution_count": 4,
   "metadata": {
    "ExecuteTime": {
     "end_time": "2019-07-03T09:05:52.964027Z",
     "start_time": "2019-07-03T09:05:52.959010Z"
    }
   },
   "outputs": [
    {
     "data": {
      "text/plain": [
       "(99989, 3)"
      ]
     },
     "execution_count": 4,
     "metadata": {},
     "output_type": "execute_result"
    }
   ],
   "source": [
    "df.shape"
   ]
  },
  {
   "cell_type": "code",
   "execution_count": 5,
   "metadata": {
    "ExecuteTime": {
     "end_time": "2019-07-03T09:05:53.595367Z",
     "start_time": "2019-07-03T09:05:52.965991Z"
    },
    "scrolled": true
   },
   "outputs": [
    {
     "data": {
      "image/png": "[encoded data removed]",
      "text/plain": [
       "<Figure size 432x288 with 1 Axes>"
      ]
     },
     "metadata": {},
     "output_type": "display_data"
    }
   ],
   "source": [
    "import seaborn as sns\n",
    "sns.set(style=\"darkgrid\")\n",
    "ax = sns.countplot(x=\"Sentiment\", data=df)"
   ]
  },
  {
   "cell_type": "markdown",
   "metadata": {},
   "source": [
    "# Preprocessing"
   ]
  },
  {
   "cell_type": "code",
   "execution_count": 7,
   "metadata": {
    "ExecuteTime": {
     "end_time": "2019-07-03T09:06:00.704915Z",
     "start_time": "2019-07-03T09:06:00.696955Z"
    }
   },
   "outputs": [],
   "source": [
    "def replaceContractions(sentence):\n",
    "    outputSentence = sentence.lower()\n",
    "    outputSentence = re.sub(r\"\\b%s\\b\" % \"won't\" , \"will not\", outputSentence)\n",
    "    outputSentence = re.sub(r\"\\b%s\\b\" % \"can't\" , \"can not\", outputSentence)\n",
    "    outputSentence = re.sub(r\"\\b%s\\b\" % \"n't\", \" not\", outputSentence)\n",
    "    outputSentence = re.sub(r\"\\b%s\\b\" % \"’t\", \" not\", outputSentence)\n",
    "    outputSentence = re.sub(r\"\\b%s\\b\" % \"\\'re\", \" are\", outputSentence)\n",
    "    outputSentence = re.sub(r\"\\b%s\\b\" % \"’re\" , \" are\", outputSentence)\n",
    "    outputSentence = re.sub(r\"\\b%s\\b\" % \"\\'s\", \" is\", outputSentence)\n",
    "    outputSentence = re.sub(r\"\\b%s\\b\" % \"’s\", \" is\", outputSentence)\n",
    "    outputSentence = re.sub(r\"\\b%s\\b\" % \"\\'d\", \" would\", outputSentence)\n",
    "    outputSentence = re.sub(r\"\\b%s\\b\" % \"’d\", \" would\", outputSentence)\n",
    "    outputSentence = re.sub(r\"\\b%s\\b\" % \"\\'ll\", \" will\", outputSentence)\n",
    "    outputSentence = re.sub(r\"\\b%s\\b\" % \"’ll\", \" will\", outputSentence)\n",
    "    outputSentence = re.sub(r\"\\b%s\\b\" % \"\\'t\", \" not\", outputSentence)\n",
    "    outputSentence = re.sub(r\"\\b%s\\b\" % \"’t\", \" not\", outputSentence)\n",
    "    outputSentence = re.sub(r\"\\b%s\\b\" % \"\\'ve\", \" have\", outputSentence)\n",
    "    outputSentence = re.sub(r\"\\b%s\\b\" % \"’ve\", \" have\", outputSentence)\n",
    "    outputSentence = re.sub(r\"\\b%s\\b\" % \"\\'m\", \" am\", outputSentence)\n",
    "    outputSentence = re.sub(r\"\\b%s\\b\" % \"’m\", \" am\", outputSentence)\n",
    "    outputSentence = outputSentence.replace('\\n', ' ')\n",
    "    outputSentence = outputSentence.replace('\\r', '')\n",
    "    outputSentence = outputSentence.replace('‑',\"-\")\n",
    "    return str(outputSentence)"
   ]
  },
  {
   "cell_type": "code",
   "execution_count": 8,
   "metadata": {
    "ExecuteTime": {
     "end_time": "2019-07-03T09:06:01.482534Z",
     "start_time": "2019-07-03T09:06:01.471563Z"
    }
   },
   "outputs": [],
   "source": [
    "def clean_data(data):\n",
    "    data['SentimentText_RE'] = data['SentimentText'].apply(lambda x: re.sub(r'(@[A-Za-z0-9_]+|:[A-Za-z-])','',str(x).lower())) #delete @user\n",
    "    data['SentimentText_RE'] = data['SentimentText_RE'].apply(lambda x: re.sub(r'https?://[A-Za-z0-9./]+','',x)) #delete https://\n",
    "    stop = stopwords.words('english')\n",
    "    data['SentimentText_RE'] = data['SentimentText_RE'].apply(lambda x: \" \".join(x for x in x.split() if x not in stop)) # delete stop words\n",
    "    #data['TXT'] = data['TXT'].apply(lambda x: x.encode().decode(\"utf-8-sig\"))\n",
    "    data['SentimentText_RE'] = data['SentimentText_RE'].apply(lambda x: re.sub(r'&amp','',x))\n",
    "    data['SentimentText_RE'] = data['SentimentText_RE'].apply(lambda x: replaceContractions(x))\n",
    "    data['SentimentText_RE'] = data['SentimentText_RE'].apply(lambda x: re.sub('[^a-zA-z0-9\\s]','',x))\n",
    "    data['SentimentText_RE'] = data['SentimentText_RE'].apply(lambda x: re.sub('(\\[|\\]|\\(|\\))','',x))\n",
    "    \n",
    "    #most_freq = pd.Series(' '.join(data['SentimentText_RE']).split()).value_counts()[:50]\n",
    "    last_freq = pd.Series(' '.join(data['SentimentText_RE']).split()).value_counts()[-200:]\n",
    "    \n",
    "    freq = last_freq.index.tolist() # + most_freq.index.tolist() + last_freq.index.tolist()\n",
    "    \n",
    "    data['SentimentText_RE'] = data['SentimentText_RE'].apply(lambda x: \" \".join(x for x in x.split() if x not in freq))\n",
    "    \n",
    "    st = PorterStemmer()\n",
    "    data['SentimentText_RE'] = data['SentimentText_RE'].apply(lambda x: \" \".join([st.stem(word) for word in x.split()]))\n",
    "    \n",
    "    lemmatizer = WordNetLemmatizer()\n",
    "    data['SentimentText_RE'] = data['SentimentText_RE'].apply(lambda x: \" \".join([lemmatizer.lemmatize(word) for word in x.split()]))\n",
    "    \n",
    "    data['WORD_COUNT'] = data['SentimentText_RE'].apply(lambda x: len(nltk.word_tokenize(x)))\n",
    "    return data"
   ]
  },
  {
   "cell_type": "code",
   "execution_count": 19,
   "metadata": {
    "ExecuteTime": {
     "end_time": "2019-07-03T09:09:27.000632Z",
     "start_time": "2019-07-03T09:08:39.139510Z"
    },
    "scrolled": true
   },
   "outputs": [],
   "source": [
    "df = clean_data(df)"
   ]
  },
  {
   "cell_type": "code",
   "execution_count": 20,
   "metadata": {
    "ExecuteTime": {
     "end_time": "2019-07-03T09:09:27.013538Z",
     "start_time": "2019-07-03T09:09:27.002567Z"
    },
    "scrolled": false
   },
   "outputs": [
    {
     "data": {
      "text/html": [
       "<div>\n",
       "<style scoped>\n",
       "    .dataframe tbody tr th:only-of-type {\n",
       "        vertical-align: middle;\n",
       "    }\n",
       "\n",
       "    .dataframe tbody tr th {\n",
       "        vertical-align: top;\n",
       "    }\n",
       "\n",
       "    .dataframe thead th {\n",
       "        text-align: right;\n",
       "    }\n",
       "</style>\n",
       "<table border=\"1\" class=\"dataframe\">\n",
       "  <thead>\n",
       "    <tr style=\"text-align: right;\">\n",
       "      <th></th>\n",
       "      <th>ItemID</th>\n",
       "      <th>Sentiment</th>\n",
       "      <th>SentimentText</th>\n",
       "      <th>SentimentText_RE</th>\n",
       "      <th>WORD_COUNT</th>\n",
       "    </tr>\n",
       "  </thead>\n",
       "  <tbody>\n",
       "    <tr>\n",
       "      <th>0</th>\n",
       "      <td>1</td>\n",
       "      <td>0</td>\n",
       "      <td>is so sad for my APL frie...</td>\n",
       "      <td>sad apl friend</td>\n",
       "      <td>3</td>\n",
       "    </tr>\n",
       "    <tr>\n",
       "      <th>1</th>\n",
       "      <td>2</td>\n",
       "      <td>0</td>\n",
       "      <td>I missed the New Moon trail...</td>\n",
       "      <td>miss new moon trailer</td>\n",
       "      <td>4</td>\n",
       "    </tr>\n",
       "    <tr>\n",
       "      <th>2</th>\n",
       "      <td>3</td>\n",
       "      <td>1</td>\n",
       "      <td>omg its already 7:30 :O</td>\n",
       "      <td>omg alreadi 730</td>\n",
       "      <td>3</td>\n",
       "    </tr>\n",
       "    <tr>\n",
       "      <th>3</th>\n",
       "      <td>4</td>\n",
       "      <td>0</td>\n",
       "      <td>.. Omgaga. Im sooo  im gunna CRy. I'...</td>\n",
       "      <td>omgaga im sooo im gunna cri i have dentist sin...</td>\n",
       "      <td>17</td>\n",
       "    </tr>\n",
       "    <tr>\n",
       "      <th>4</th>\n",
       "      <td>5</td>\n",
       "      <td>0</td>\n",
       "      <td>i think mi bf is cheating on me!!!   ...</td>\n",
       "      <td>think mi bf cheat me t_t</td>\n",
       "      <td>6</td>\n",
       "    </tr>\n",
       "    <tr>\n",
       "      <th>5</th>\n",
       "      <td>6</td>\n",
       "      <td>0</td>\n",
       "      <td>or i just worry too much?</td>\n",
       "      <td>worri much</td>\n",
       "      <td>2</td>\n",
       "    </tr>\n",
       "    <tr>\n",
       "      <th>6</th>\n",
       "      <td>7</td>\n",
       "      <td>1</td>\n",
       "      <td>Juuuuuuuuuuuuuuuuussssst Chillin!!</td>\n",
       "      <td>juuuuuuuuuuuuuuuuussssst chillin</td>\n",
       "      <td>2</td>\n",
       "    </tr>\n",
       "  </tbody>\n",
       "</table>\n",
       "</div>"
      ],
      "text/plain": [
       "   ItemID  Sentiment                                      SentimentText  \\\n",
       "0       1          0                       is so sad for my APL frie...   \n",
       "1       2          0                     I missed the New Moon trail...   \n",
       "2       3          1                            omg its already 7:30 :O   \n",
       "3       4          0            .. Omgaga. Im sooo  im gunna CRy. I'...   \n",
       "4       5          0           i think mi bf is cheating on me!!!   ...   \n",
       "5       6          0                  or i just worry too much?           \n",
       "6       7          1                 Juuuuuuuuuuuuuuuuussssst Chillin!!   \n",
       "\n",
       "                                    SentimentText_RE  WORD_COUNT  \n",
       "0                                     sad apl friend           3  \n",
       "1                              miss new moon trailer           4  \n",
       "2                                    omg alreadi 730           3  \n",
       "3  omgaga im sooo im gunna cri i have dentist sin...          17  \n",
       "4                           think mi bf cheat me t_t           6  \n",
       "5                                         worri much           2  \n",
       "6                   juuuuuuuuuuuuuuuuussssst chillin           2  "
      ]
     },
     "execution_count": 20,
     "metadata": {},
     "output_type": "execute_result"
    }
   ],
   "source": [
    "df.head(7)"
   ]
  },
  {
   "cell_type": "code",
   "execution_count": 22,
   "metadata": {
    "ExecuteTime": {
     "end_time": "2019-07-03T09:09:27.085345Z",
     "start_time": "2019-07-03T09:09:27.041463Z"
    }
   },
   "outputs": [],
   "source": [
    "df = df.loc[df['WORD_COUNT']>=2].reset_index(drop=True)"
   ]
  },
  {
   "cell_type": "code",
   "execution_count": 21,
   "metadata": {
    "ExecuteTime": {
     "end_time": "2019-07-03T09:09:27.039469Z",
     "start_time": "2019-07-03T09:09:27.015561Z"
    },
    "scrolled": true
   },
   "outputs": [
    {
     "data": {
      "text/plain": [
       "(99989, 5)"
      ]
     },
     "execution_count": 21,
     "metadata": {},
     "output_type": "execute_result"
    }
   ],
   "source": [
    "df.shape"
   ]
  },
  {
   "cell_type": "code",
   "execution_count": 23,
   "metadata": {
    "ExecuteTime": {
     "end_time": "2019-07-03T09:09:27.129251Z",
     "start_time": "2019-07-03T09:09:27.087338Z"
    },
    "scrolled": true
   },
   "outputs": [
    {
     "data": {
      "text/html": [
       "<div>\n",
       "<style scoped>\n",
       "    .dataframe tbody tr th:only-of-type {\n",
       "        vertical-align: middle;\n",
       "    }\n",
       "\n",
       "    .dataframe tbody tr th {\n",
       "        vertical-align: top;\n",
       "    }\n",
       "\n",
       "    .dataframe thead th {\n",
       "        text-align: right;\n",
       "    }\n",
       "</style>\n",
       "<table border=\"1\" class=\"dataframe\">\n",
       "  <thead>\n",
       "    <tr style=\"text-align: right;\">\n",
       "      <th></th>\n",
       "      <th>ItemID</th>\n",
       "      <th>Sentiment</th>\n",
       "      <th>WORD_COUNT</th>\n",
       "    </tr>\n",
       "  </thead>\n",
       "  <tbody>\n",
       "    <tr>\n",
       "      <th>count</th>\n",
       "      <td>95548.000000</td>\n",
       "      <td>95548.000000</td>\n",
       "      <td>95548.000000</td>\n",
       "    </tr>\n",
       "    <tr>\n",
       "      <th>mean</th>\n",
       "      <td>49830.648962</td>\n",
       "      <td>0.562544</td>\n",
       "      <td>7.733129</td>\n",
       "    </tr>\n",
       "    <tr>\n",
       "      <th>std</th>\n",
       "      <td>28902.892152</td>\n",
       "      <td>0.496075</td>\n",
       "      <td>4.080768</td>\n",
       "    </tr>\n",
       "    <tr>\n",
       "      <th>min</th>\n",
       "      <td>1.000000</td>\n",
       "      <td>0.000000</td>\n",
       "      <td>2.000000</td>\n",
       "    </tr>\n",
       "    <tr>\n",
       "      <th>25%</th>\n",
       "      <td>24686.500000</td>\n",
       "      <td>0.000000</td>\n",
       "      <td>4.000000</td>\n",
       "    </tr>\n",
       "    <tr>\n",
       "      <th>50%</th>\n",
       "      <td>49810.500000</td>\n",
       "      <td>1.000000</td>\n",
       "      <td>7.000000</td>\n",
       "    </tr>\n",
       "    <tr>\n",
       "      <th>75%</th>\n",
       "      <td>74830.250000</td>\n",
       "      <td>1.000000</td>\n",
       "      <td>11.000000</td>\n",
       "    </tr>\n",
       "    <tr>\n",
       "      <th>max</th>\n",
       "      <td>100000.000000</td>\n",
       "      <td>1.000000</td>\n",
       "      <td>72.000000</td>\n",
       "    </tr>\n",
       "  </tbody>\n",
       "</table>\n",
       "</div>"
      ],
      "text/plain": [
       "              ItemID     Sentiment    WORD_COUNT\n",
       "count   95548.000000  95548.000000  95548.000000\n",
       "mean    49830.648962      0.562544      7.733129\n",
       "std     28902.892152      0.496075      4.080768\n",
       "min         1.000000      0.000000      2.000000\n",
       "25%     24686.500000      0.000000      4.000000\n",
       "50%     49810.500000      1.000000      7.000000\n",
       "75%     74830.250000      1.000000     11.000000\n",
       "max    100000.000000      1.000000     72.000000"
      ]
     },
     "execution_count": 23,
     "metadata": {},
     "output_type": "execute_result"
    }
   ],
   "source": [
    "df.describe()"
   ]
  },
  {
   "cell_type": "markdown",
   "metadata": {},
   "source": [
    "## Prepare for model"
   ]
  },
  {
   "cell_type": "code",
   "execution_count": 24,
   "metadata": {
    "ExecuteTime": {
     "end_time": "2019-07-03T09:09:27.137202Z",
     "start_time": "2019-07-03T09:09:27.132236Z"
    }
   },
   "outputs": [],
   "source": [
    "X = df['SentimentText_RE']\n",
    "y = df['Sentiment']"
   ]
  },
  {
   "cell_type": "code",
   "execution_count": 25,
   "metadata": {
    "ExecuteTime": {
     "end_time": "2019-07-03T09:09:27.192082Z",
     "start_time": "2019-07-03T09:09:27.140195Z"
    }
   },
   "outputs": [],
   "source": [
    "X_train_text, X_test_text, y_train, y_test = train_test_split(X, y, test_size=0.3, random_state=1, stratify=y)"
   ]
  },
  {
   "cell_type": "code",
   "execution_count": 26,
   "metadata": {
    "ExecuteTime": {
     "end_time": "2019-07-03T09:09:27.202028Z",
     "start_time": "2019-07-03T09:09:27.195048Z"
    }
   },
   "outputs": [
    {
     "data": {
      "text/plain": [
       "array([0, 0, 1, ..., 1, 0, 0], dtype=int64)"
      ]
     },
     "execution_count": 26,
     "metadata": {},
     "output_type": "execute_result"
    }
   ],
   "source": [
    "y_train.values"
   ]
  },
  {
   "cell_type": "code",
   "execution_count": 27,
   "metadata": {
    "ExecuteTime": {
     "end_time": "2019-07-03T09:09:27.222969Z",
     "start_time": "2019-07-03T09:09:27.205018Z"
    }
   },
   "outputs": [],
   "source": [
    "from keras.preprocessing import sequence\n",
    "from keras.preprocessing.text import Tokenizer"
   ]
  },
  {
   "cell_type": "code",
   "execution_count": 28,
   "metadata": {
    "ExecuteTime": {
     "end_time": "2019-07-03T09:09:27.242915Z",
     "start_time": "2019-07-03T09:09:27.226960Z"
    }
   },
   "outputs": [],
   "source": [
    "num_words=2000\n",
    "max_len=30"
   ]
  },
  {
   "cell_type": "code",
   "execution_count": 29,
   "metadata": {
    "ExecuteTime": {
     "end_time": "2019-07-03T09:09:28.640722Z",
     "start_time": "2019-07-03T09:09:27.244910Z"
    }
   },
   "outputs": [],
   "source": [
    "token = Tokenizer(num_words=num_words)\n",
    "token.fit_on_texts(X_train_text)"
   ]
  },
  {
   "cell_type": "code",
   "execution_count": 30,
   "metadata": {
    "ExecuteTime": {
     "end_time": "2019-07-03T09:09:30.339706Z",
     "start_time": "2019-07-03T09:09:28.642719Z"
    }
   },
   "outputs": [],
   "source": [
    "X_train_seq = token.texts_to_sequences(X_train_text.tolist())\n",
    "X_test_seq = token.texts_to_sequences(X_test_text.tolist())"
   ]
  },
  {
   "cell_type": "code",
   "execution_count": 31,
   "metadata": {
    "ExecuteTime": {
     "end_time": "2019-07-03T09:09:30.817530Z",
     "start_time": "2019-07-03T09:09:30.341712Z"
    }
   },
   "outputs": [],
   "source": [
    "X_train = sequence.pad_sequences(X_train_seq, maxlen=max_len)\n",
    "X_test = sequence.pad_sequences(X_test_seq, maxlen=max_len)"
   ]
  },
  {
   "cell_type": "markdown",
   "metadata": {},
   "source": [
    "# RNN / LSTM"
   ]
  },
  {
   "cell_type": "code",
   "execution_count": 32,
   "metadata": {
    "ExecuteTime": {
     "end_time": "2019-07-03T09:09:30.823519Z",
     "start_time": "2019-07-03T09:09:30.819528Z"
    }
   },
   "outputs": [],
   "source": [
    "from keras.models import Sequential\n",
    "from keras.layers.core import Dense, Dropout, Activation, Flatten\n",
    "from keras.layers.embeddings import Embedding\n",
    "from keras.layers.recurrent import SimpleRNN\n",
    "from keras.layers.recurrent import LSTM"
   ]
  },
  {
   "cell_type": "code",
   "execution_count": 33,
   "metadata": {
    "ExecuteTime": {
     "end_time": "2019-07-03T09:09:30.846305Z",
     "start_time": "2019-07-03T09:09:30.825515Z"
    }
   },
   "outputs": [],
   "source": [
    "model = Sequential()"
   ]
  },
  {
   "cell_type": "code",
   "execution_count": 34,
   "metadata": {
    "ExecuteTime": {
     "end_time": "2019-07-03T09:09:30.897308Z",
     "start_time": "2019-07-03T09:09:30.848302Z"
    }
   },
   "outputs": [],
   "source": [
    "model.add(Embedding(output_dim=128,\n",
    "                    input_dim=num_words,\n",
    "                    input_length=max_len))\n",
    "model.add(Dropout(0.2))"
   ]
  },
  {
   "cell_type": "code",
   "execution_count": 35,
   "metadata": {
    "ExecuteTime": {
     "end_time": "2019-07-03T09:09:31.200550Z",
     "start_time": "2019-07-03T09:09:30.899306Z"
    }
   },
   "outputs": [],
   "source": [
    "#model.add(SimpleRNN(units=64))\n",
    "model.add(LSTM(64,dropout=0.2))"
   ]
  },
  {
   "cell_type": "code",
   "execution_count": 36,
   "metadata": {
    "ExecuteTime": {
     "end_time": "2019-07-03T09:09:31.206504Z",
     "start_time": "2019-07-03T09:09:31.202515Z"
    }
   },
   "outputs": [],
   "source": [
    "#model.add(LSTM(64, dropout=0.2, recurrent_dropout=0.2))"
   ]
  },
  {
   "cell_type": "code",
   "execution_count": 37,
   "metadata": {
    "ExecuteTime": {
     "end_time": "2019-07-03T09:09:31.258364Z",
     "start_time": "2019-07-03T09:09:31.208470Z"
    }
   },
   "outputs": [],
   "source": [
    "model.add(Dense(units=256,\n",
    "                activation='relu'))\n",
    "model.add(Dropout(0.35))"
   ]
  },
  {
   "cell_type": "code",
   "execution_count": 38,
   "metadata": {
    "ExecuteTime": {
     "end_time": "2019-07-03T09:09:31.280276Z",
     "start_time": "2019-07-03T09:09:31.259359Z"
    }
   },
   "outputs": [],
   "source": [
    "model.add(Dense(units=1,\n",
    "                activation='sigmoid'))"
   ]
  },
  {
   "cell_type": "code",
   "execution_count": 39,
   "metadata": {
    "ExecuteTime": {
     "end_time": "2019-07-03T09:09:31.287257Z",
     "start_time": "2019-07-03T09:09:31.282270Z"
    },
    "scrolled": true
   },
   "outputs": [
    {
     "name": "stdout",
     "output_type": "stream",
     "text": [
      "_________________________________________________________________\n",
      "Layer (type)                 Output Shape              Param #   \n",
      "=================================================================\n",
      "embedding_1 (Embedding)      (None, 30, 128)           256000    \n",
      "_________________________________________________________________\n",
      "dropout_1 (Dropout)          (None, 30, 128)           0         \n",
      "_________________________________________________________________\n",
      "lstm_1 (LSTM)                (None, 64)                49408     \n",
      "_________________________________________________________________\n",
      "dense_1 (Dense)              (None, 256)               16640     \n",
      "_________________________________________________________________\n",
      "dropout_2 (Dropout)          (None, 256)               0         \n",
      "_________________________________________________________________\n",
      "dense_2 (Dense)              (None, 1)                 257       \n",
      "=================================================================\n",
      "Total params: 322,305\n",
      "Trainable params: 322,305\n",
      "Non-trainable params: 0\n",
      "_________________________________________________________________\n"
     ]
    }
   ],
   "source": [
    "model.summary()"
   ]
  },
  {
   "cell_type": "markdown",
   "metadata": {},
   "source": [
    "# 訓練模型"
   ]
  },
  {
   "cell_type": "code",
   "execution_count": 40,
   "metadata": {
    "ExecuteTime": {
     "end_time": "2019-07-03T09:09:31.341141Z",
     "start_time": "2019-07-03T09:09:31.289251Z"
    }
   },
   "outputs": [],
   "source": [
    "model.compile(loss='mean_squared_error', #binary_cross_entropy\n",
    "              optimizer='adam',\n",
    "              metrics=['accuracy'])"
   ]
  },
  {
   "cell_type": "code",
   "execution_count": 41,
   "metadata": {
    "ExecuteTime": {
     "end_time": "2019-07-03T09:09:31.347095Z",
     "start_time": "2019-07-03T09:09:31.343104Z"
    }
   },
   "outputs": [],
   "source": [
    "epochs=20\n",
    "batch_size=30"
   ]
  },
  {
   "cell_type": "code",
   "execution_count": 42,
   "metadata": {
    "ExecuteTime": {
     "end_time": "2019-07-03T09:22:32.128712Z",
     "start_time": "2019-07-03T09:09:31.349120Z"
    },
    "scrolled": true
   },
   "outputs": [
    {
     "name": "stdout",
     "output_type": "stream",
     "text": [
      "Train on 53506 samples, validate on 13377 samples\n",
      "Epoch 1/20\n",
      "53506/53506 [==============================] - 41s 761us/step - loss: 0.1843 - acc: 0.7206 - val_loss: 0.1754 - val_acc: 0.7325\n",
      "Epoch 2/20\n",
      "53506/53506 [==============================] - 40s 742us/step - loss: 0.1670 - acc: 0.7525 - val_loss: 0.1755 - val_acc: 0.7363\n",
      "Epoch 3/20\n",
      "53506/53506 [==============================] - 39s 720us/step - loss: 0.1599 - acc: 0.7637 - val_loss: 0.1770 - val_acc: 0.7332\n",
      "Epoch 4/20\n",
      "53506/53506 [==============================] - 38s 708us/step - loss: 0.1541 - acc: 0.7748 - val_loss: 0.1779 - val_acc: 0.7336\n",
      "Epoch 5/20\n",
      "53506/53506 [==============================] - 39s 731us/step - loss: 0.1490 - acc: 0.7849 - val_loss: 0.1818 - val_acc: 0.7302\n",
      "Epoch 6/20\n",
      "53506/53506 [==============================] - 38s 708us/step - loss: 0.1443 - acc: 0.7912 - val_loss: 0.1853 - val_acc: 0.7276\n",
      "Epoch 7/20\n",
      "53506/53506 [==============================] - 39s 725us/step - loss: 0.1385 - acc: 0.8033 - val_loss: 0.1894 - val_acc: 0.7225\n",
      "Epoch 8/20\n",
      "53506/53506 [==============================] - 38s 705us/step - loss: 0.1322 - acc: 0.8133 - val_loss: 0.1915 - val_acc: 0.7221\n",
      "Epoch 9/20\n",
      "53506/53506 [==============================] - 37s 701us/step - loss: 0.1260 - acc: 0.8248 - val_loss: 0.1968 - val_acc: 0.7159\n",
      "Epoch 10/20\n",
      "53506/53506 [==============================] - 39s 726us/step - loss: 0.1197 - acc: 0.8344 - val_loss: 0.2068 - val_acc: 0.7192\n",
      "Epoch 11/20\n",
      "53506/53506 [==============================] - 40s 745us/step - loss: 0.1136 - acc: 0.8454 - val_loss: 0.2119 - val_acc: 0.7198\n",
      "Epoch 12/20\n",
      "53506/53506 [==============================] - 38s 713us/step - loss: 0.1073 - acc: 0.8540 - val_loss: 0.2163 - val_acc: 0.7122\n",
      "Epoch 13/20\n",
      "53506/53506 [==============================] - 38s 714us/step - loss: 0.1032 - acc: 0.8610 - val_loss: 0.2203 - val_acc: 0.7079\n",
      "Epoch 14/20\n",
      "53506/53506 [==============================] - 39s 734us/step - loss: 0.0983 - acc: 0.8680 - val_loss: 0.2249 - val_acc: 0.7099\n",
      "Epoch 15/20\n",
      "53506/53506 [==============================] - 40s 750us/step - loss: 0.0939 - acc: 0.8745 - val_loss: 0.2239 - val_acc: 0.7085\n",
      "Epoch 16/20\n",
      "53506/53506 [==============================] - 39s 732us/step - loss: 0.0900 - acc: 0.8798 - val_loss: 0.2303 - val_acc: 0.7132\n",
      "Epoch 17/20\n",
      "53506/53506 [==============================] - 39s 722us/step - loss: 0.0869 - acc: 0.8853 - val_loss: 0.2345 - val_acc: 0.7029\n",
      "Epoch 18/20\n",
      "53506/53506 [==============================] - 41s 769us/step - loss: 0.0833 - acc: 0.8892 - val_loss: 0.2357 - val_acc: 0.7058\n",
      "Epoch 19/20\n",
      "53506/53506 [==============================] - 40s 742us/step - loss: 0.0803 - acc: 0.8949 - val_loss: 0.2380 - val_acc: 0.7054\n",
      "Epoch 20/20\n",
      "53506/53506 [==============================] - 38s 718us/step - loss: 0.0787 - acc: 0.8966 - val_loss: 0.2392 - val_acc: 0.7030\n"
     ]
    }
   ],
   "source": [
    "train_hist = model.fit(X_train, y_train, batch_size=batch_size, epochs=epochs, verbose=1, validation_split=0.2)"
   ]
  },
  {
   "cell_type": "code",
   "execution_count": null,
   "metadata": {
    "ExecuteTime": {
     "end_time": "2019-07-03T07:40:40.929313Z",
     "start_time": "2019-07-03T07:28:08.213Z"
    }
   },
   "outputs": [],
   "source": [
    "# save model\n",
    "#from datetime import datetime\n",
    "#model.save('CEM_LSTM_'+datetime.now().strftime('%Y-%m-%d')+'.h5')"
   ]
  },
  {
   "cell_type": "code",
   "execution_count": null,
   "metadata": {
    "ExecuteTime": {
     "end_time": "2019-07-03T07:40:40.930310Z",
     "start_time": "2019-07-03T07:28:08.989Z"
    }
   },
   "outputs": [],
   "source": [
    "###### load moel\n",
    "#from keras.models import load_model\n",
    "#model = load_model('CEM_LSTM_2019-02-12.h5')"
   ]
  },
  {
   "cell_type": "markdown",
   "metadata": {},
   "source": [
    "# See loss and acc of testing"
   ]
  },
  {
   "cell_type": "code",
   "execution_count": 61,
   "metadata": {
    "ExecuteTime": {
     "end_time": "2019-07-03T08:24:05.844788Z",
     "start_time": "2019-07-03T08:24:01.914015Z"
    }
   },
   "outputs": [
    {
     "name": "stdout",
     "output_type": "stream",
     "text": [
      "28665/28665 [==============================] - 4s 137us/step\n"
     ]
    },
    {
     "data": {
      "text/plain": [
       "[0.23497812801810558, 0.7131344845692941]"
      ]
     },
     "execution_count": 61,
     "metadata": {},
     "output_type": "execute_result"
    }
   ],
   "source": [
    "scores = model.evaluate(X_test, y_test, verbose=1) #loss, accuracy\n",
    "scores"
   ]
  },
  {
   "cell_type": "markdown",
   "metadata": {},
   "source": [
    "# Prediction"
   ]
  },
  {
   "cell_type": "code",
   "execution_count": 62,
   "metadata": {
    "ExecuteTime": {
     "end_time": "2019-07-03T08:24:09.786384Z",
     "start_time": "2019-07-03T08:24:05.846782Z"
    }
   },
   "outputs": [],
   "source": [
    "predict = model.predict_classes(X_test)"
   ]
  },
  {
   "cell_type": "code",
   "execution_count": 63,
   "metadata": {
    "ExecuteTime": {
     "end_time": "2019-07-03T08:24:58.436033Z",
     "start_time": "2019-07-03T08:24:58.402154Z"
    }
   },
   "outputs": [
    {
     "name": "stdout",
     "output_type": "stream",
     "text": [
      "[[ 7827  4712]\n",
      " [ 3511 12615]]\n"
     ]
    }
   ],
   "source": [
    "from sklearn.metrics import confusion_matrix\n",
    "confmat = confusion_matrix(y_true=y_test, y_pred=predict)\n",
    "print(confmat)"
   ]
  },
  {
   "cell_type": "code",
   "execution_count": 63,
   "metadata": {
    "ExecuteTime": {
     "end_time": "2019-07-03T07:27:16.486780Z",
     "start_time": "2019-07-03T07:27:16.464818Z"
    },
    "scrolled": true
   },
   "outputs": [
    {
     "data": {
      "text/html": [
       "<div>\n",
       "<style scoped>\n",
       "    .dataframe tbody tr th:only-of-type {\n",
       "        vertical-align: middle;\n",
       "    }\n",
       "\n",
       "    .dataframe tbody tr th {\n",
       "        vertical-align: top;\n",
       "    }\n",
       "\n",
       "    .dataframe thead th {\n",
       "        text-align: right;\n",
       "    }\n",
       "</style>\n",
       "<table border=\"1\" class=\"dataframe\">\n",
       "  <thead>\n",
       "    <tr style=\"text-align: right;\">\n",
       "      <th></th>\n",
       "      <th>Prediction</th>\n",
       "      <th>Sentiment</th>\n",
       "      <th>Text</th>\n",
       "    </tr>\n",
       "  </thead>\n",
       "  <tbody>\n",
       "    <tr>\n",
       "      <th>0</th>\n",
       "      <td>0</td>\n",
       "      <td>0</td>\n",
       "      <td>that is wanted take you i am sorry failed</td>\n",
       "    </tr>\n",
       "    <tr>\n",
       "      <th>1</th>\n",
       "      <td>1</td>\n",
       "      <td>0</td>\n",
       "      <td>maths gcse tomorrow  haha listening mcfly watc...</td>\n",
       "    </tr>\n",
       "    <tr>\n",
       "      <th>2</th>\n",
       "      <td>1</td>\n",
       "      <td>0</td>\n",
       "      <td>gotta take break muay thai monthgotta see ill ...</td>\n",
       "    </tr>\n",
       "    <tr>\n",
       "      <th>3</th>\n",
       "      <td>1</td>\n",
       "      <td>0</td>\n",
       "      <td>quest available get epic flying skill</td>\n",
       "    </tr>\n",
       "    <tr>\n",
       "      <th>4</th>\n",
       "      <td>1</td>\n",
       "      <td>1</td>\n",
       "      <td>one quotunnecessarilyquot quotredundantquot un...</td>\n",
       "    </tr>\n",
       "    <tr>\n",
       "      <th>5</th>\n",
       "      <td>1</td>\n",
       "      <td>1</td>\n",
       "      <td>lucky love</td>\n",
       "    </tr>\n",
       "    <tr>\n",
       "      <th>6</th>\n",
       "      <td>1</td>\n",
       "      <td>0</td>\n",
       "      <td>life always good right</td>\n",
       "    </tr>\n",
       "    <tr>\n",
       "      <th>7</th>\n",
       "      <td>0</td>\n",
       "      <td>0</td>\n",
       "      <td>excellent hike weather west side cloudy cold</td>\n",
       "    </tr>\n",
       "    <tr>\n",
       "      <th>8</th>\n",
       "      <td>1</td>\n",
       "      <td>0</td>\n",
       "      <td>yes castle time tomorrow</td>\n",
       "    </tr>\n",
       "    <tr>\n",
       "      <th>9</th>\n",
       "      <td>1</td>\n",
       "      <td>1</td>\n",
       "      <td>waves new followers good morning others</td>\n",
       "    </tr>\n",
       "    <tr>\n",
       "      <th>10</th>\n",
       "      <td>0</td>\n",
       "      <td>0</td>\n",
       "      <td>ouch</td>\n",
       "    </tr>\n",
       "    <tr>\n",
       "      <th>11</th>\n",
       "      <td>1</td>\n",
       "      <td>1</td>\n",
       "      <td>haha yesss</td>\n",
       "    </tr>\n",
       "    <tr>\n",
       "      <th>12</th>\n",
       "      <td>1</td>\n",
       "      <td>1</td>\n",
       "      <td>hope get well soon</td>\n",
       "    </tr>\n",
       "    <tr>\n",
       "      <th>13</th>\n",
       "      <td>0</td>\n",
       "      <td>1</td>\n",
       "      <td>i am going thatreal soon</td>\n",
       "    </tr>\n",
       "    <tr>\n",
       "      <th>14</th>\n",
       "      <td>1</td>\n",
       "      <td>1</td>\n",
       "      <td>ty luvies</td>\n",
       "    </tr>\n",
       "    <tr>\n",
       "      <th>15</th>\n",
       "      <td>0</td>\n",
       "      <td>1</td>\n",
       "      <td>gonna compete me</td>\n",
       "    </tr>\n",
       "    <tr>\n",
       "      <th>16</th>\n",
       "      <td>1</td>\n",
       "      <td>1</td>\n",
       "      <td>thanks letting know</td>\n",
       "    </tr>\n",
       "    <tr>\n",
       "      <th>17</th>\n",
       "      <td>1</td>\n",
       "      <td>1</td>\n",
       "      <td>especially like going green dance posters fine...</td>\n",
       "    </tr>\n",
       "    <tr>\n",
       "      <th>18</th>\n",
       "      <td>0</td>\n",
       "      <td>1</td>\n",
       "      <td>no i am work getting updates bbespn</td>\n",
       "    </tr>\n",
       "    <tr>\n",
       "      <th>19</th>\n",
       "      <td>0</td>\n",
       "      <td>0</td>\n",
       "      <td>sucks twitter word limits sorry write multiple...</td>\n",
       "    </tr>\n",
       "    <tr>\n",
       "      <th>20</th>\n",
       "      <td>1</td>\n",
       "      <td>1</td>\n",
       "      <td>hair looked absolutely gorgeous bgt bob fringe...</td>\n",
       "    </tr>\n",
       "    <tr>\n",
       "      <th>21</th>\n",
       "      <td>1</td>\n",
       "      <td>1</td>\n",
       "      <td>lunch garden blazing sun beautiful</td>\n",
       "    </tr>\n",
       "    <tr>\n",
       "      <th>22</th>\n",
       "      <td>0</td>\n",
       "      <td>1</td>\n",
       "      <td>oh u too going vote dont know yet going</td>\n",
       "    </tr>\n",
       "    <tr>\n",
       "      <th>23</th>\n",
       "      <td>0</td>\n",
       "      <td>0</td>\n",
       "      <td>want change hos</td>\n",
       "    </tr>\n",
       "    <tr>\n",
       "      <th>24</th>\n",
       "      <td>0</td>\n",
       "      <td>0</td>\n",
       "      <td>without me</td>\n",
       "    </tr>\n",
       "    <tr>\n",
       "      <th>25</th>\n",
       "      <td>1</td>\n",
       "      <td>1</td>\n",
       "      <td>ducati sexy bikes</td>\n",
       "    </tr>\n",
       "    <tr>\n",
       "      <th>26</th>\n",
       "      <td>0</td>\n",
       "      <td>1</td>\n",
       "      <td>thoughts precisely</td>\n",
       "    </tr>\n",
       "    <tr>\n",
       "      <th>27</th>\n",
       "      <td>1</td>\n",
       "      <td>1</td>\n",
       "      <td>here is solution everyone especially west mind...</td>\n",
       "    </tr>\n",
       "    <tr>\n",
       "      <th>28</th>\n",
       "      <td>1</td>\n",
       "      <td>1</td>\n",
       "      <td>i am okay lol theres always next year cavs st...</td>\n",
       "    </tr>\n",
       "    <tr>\n",
       "      <th>29</th>\n",
       "      <td>1</td>\n",
       "      <td>1</td>\n",
       "      <td>freezing extra warmth would greatly appreciated</td>\n",
       "    </tr>\n",
       "    <tr>\n",
       "      <th>...</th>\n",
       "      <td>...</td>\n",
       "      <td>...</td>\n",
       "      <td>...</td>\n",
       "    </tr>\n",
       "    <tr>\n",
       "      <th>29856</th>\n",
       "      <td>1</td>\n",
       "      <td>1</td>\n",
       "      <td>thanks encouragement love share hair color ski...</td>\n",
       "    </tr>\n",
       "    <tr>\n",
       "      <th>29857</th>\n",
       "      <td>1</td>\n",
       "      <td>1</td>\n",
       "      <td>best wishes wife hope goes well</td>\n",
       "    </tr>\n",
       "    <tr>\n",
       "      <th>29858</th>\n",
       "      <td>1</td>\n",
       "      <td>1</td>\n",
       "      <td>mmm might still abc news breaky keep good figh...</td>\n",
       "    </tr>\n",
       "    <tr>\n",
       "      <th>29859</th>\n",
       "      <td>0</td>\n",
       "      <td>1</td>\n",
       "      <td>sorry alyssa 30 followers get tons unfollow wi...</td>\n",
       "    </tr>\n",
       "    <tr>\n",
       "      <th>29860</th>\n",
       "      <td>0</td>\n",
       "      <td>0</td>\n",
       "      <td>oh jenessa sweetie sux fck them srsly screw th...</td>\n",
       "    </tr>\n",
       "    <tr>\n",
       "      <th>29861</th>\n",
       "      <td>0</td>\n",
       "      <td>1</td>\n",
       "      <td>heard new album fantastic x0</td>\n",
       "    </tr>\n",
       "    <tr>\n",
       "      <th>29862</th>\n",
       "      <td>0</td>\n",
       "      <td>0</td>\n",
       "      <td>glad great time i am sad amazing last night th...</td>\n",
       "    </tr>\n",
       "    <tr>\n",
       "      <th>29863</th>\n",
       "      <td>1</td>\n",
       "      <td>1</td>\n",
       "      <td>decided follow reading followfriday hope ok</td>\n",
       "    </tr>\n",
       "    <tr>\n",
       "      <th>29864</th>\n",
       "      <td>1</td>\n",
       "      <td>1</td>\n",
       "      <td>get back u asap sweet dreams muah2</td>\n",
       "    </tr>\n",
       "    <tr>\n",
       "      <th>29865</th>\n",
       "      <td>1</td>\n",
       "      <td>1</td>\n",
       "      <td>ok try again</td>\n",
       "    </tr>\n",
       "    <tr>\n",
       "      <th>29866</th>\n",
       "      <td>1</td>\n",
       "      <td>1</td>\n",
       "      <td>we are bffswe crunk class</td>\n",
       "    </tr>\n",
       "    <tr>\n",
       "      <th>29867</th>\n",
       "      <td>0</td>\n",
       "      <td>1</td>\n",
       "      <td>i am glad talked phone today even want crash d...</td>\n",
       "    </tr>\n",
       "    <tr>\n",
       "      <th>29868</th>\n",
       "      <td>1</td>\n",
       "      <td>1</td>\n",
       "      <td>thanks happy mother is day great moms around</td>\n",
       "    </tr>\n",
       "    <tr>\n",
       "      <th>29869</th>\n",
       "      <td>0</td>\n",
       "      <td>0</td>\n",
       "      <td>yay im sad got flight next weekend friends ben...</td>\n",
       "    </tr>\n",
       "    <tr>\n",
       "      <th>29870</th>\n",
       "      <td>0</td>\n",
       "      <td>0</td>\n",
       "      <td>oh miss smell rain rarely rains los angeles</td>\n",
       "    </tr>\n",
       "    <tr>\n",
       "      <th>29871</th>\n",
       "      <td>1</td>\n",
       "      <td>1</td>\n",
       "      <td>think mean ubertwitter uberberry love anyways</td>\n",
       "    </tr>\n",
       "    <tr>\n",
       "      <th>29872</th>\n",
       "      <td>0</td>\n",
       "      <td>0</td>\n",
       "      <td>work slowly killing me</td>\n",
       "    </tr>\n",
       "    <tr>\n",
       "      <th>29873</th>\n",
       "      <td>0</td>\n",
       "      <td>0</td>\n",
       "      <td>80085 wish calculator font</td>\n",
       "    </tr>\n",
       "    <tr>\n",
       "      <th>29874</th>\n",
       "      <td>1</td>\n",
       "      <td>1</td>\n",
       "      <td>jen  anytime like big idea forwardthinkers ste...</td>\n",
       "    </tr>\n",
       "    <tr>\n",
       "      <th>29875</th>\n",
       "      <td>1</td>\n",
       "      <td>1</td>\n",
       "      <td>beauty shop w mom finally</td>\n",
       "    </tr>\n",
       "    <tr>\n",
       "      <th>29876</th>\n",
       "      <td>0</td>\n",
       "      <td>1</td>\n",
       "      <td>contd not hope flightgets delayed get lost</td>\n",
       "    </tr>\n",
       "    <tr>\n",
       "      <th>29877</th>\n",
       "      <td>1</td>\n",
       "      <td>0</td>\n",
       "      <td>cnt see ur face</td>\n",
       "    </tr>\n",
       "    <tr>\n",
       "      <th>29878</th>\n",
       "      <td>1</td>\n",
       "      <td>1</td>\n",
       "      <td>yeh twitter good distraction junk food quote i...</td>\n",
       "    </tr>\n",
       "    <tr>\n",
       "      <th>29879</th>\n",
       "      <td>0</td>\n",
       "      <td>1</td>\n",
       "      <td>maybe time site busyi playing past 3 hours wor...</td>\n",
       "    </tr>\n",
       "    <tr>\n",
       "      <th>29880</th>\n",
       "      <td>1</td>\n",
       "      <td>1</td>\n",
       "      <td>lol guess would make sense</td>\n",
       "    </tr>\n",
       "    <tr>\n",
       "      <th>29881</th>\n",
       "      <td>0</td>\n",
       "      <td>0</td>\n",
       "      <td>nope around 3am est tonight boo</td>\n",
       "    </tr>\n",
       "    <tr>\n",
       "      <th>29882</th>\n",
       "      <td>1</td>\n",
       "      <td>1</td>\n",
       "      <td>yes come goa try goan blogs meuamorblogspotcom</td>\n",
       "    </tr>\n",
       "    <tr>\n",
       "      <th>29883</th>\n",
       "      <td>1</td>\n",
       "      <td>0</td>\n",
       "      <td>changehate</td>\n",
       "    </tr>\n",
       "    <tr>\n",
       "      <th>29884</th>\n",
       "      <td>1</td>\n",
       "      <td>1</td>\n",
       "      <td>rock always liked steve perry arnel awesome gr...</td>\n",
       "    </tr>\n",
       "    <tr>\n",
       "      <th>29885</th>\n",
       "      <td>1</td>\n",
       "      <td>1</td>\n",
       "      <td>yeah part it skill point fit last tweet though</td>\n",
       "    </tr>\n",
       "  </tbody>\n",
       "</table>\n",
       "<p>29886 rows × 3 columns</p>\n",
       "</div>"
      ],
      "text/plain": [
       "       Prediction  Sentiment  \\\n",
       "0               0          0   \n",
       "1               1          0   \n",
       "2               1          0   \n",
       "3               1          0   \n",
       "4               1          1   \n",
       "5               1          1   \n",
       "6               1          0   \n",
       "7               0          0   \n",
       "8               1          0   \n",
       "9               1          1   \n",
       "10              0          0   \n",
       "11              1          1   \n",
       "12              1          1   \n",
       "13              0          1   \n",
       "14              1          1   \n",
       "15              0          1   \n",
       "16              1          1   \n",
       "17              1          1   \n",
       "18              0          1   \n",
       "19              0          0   \n",
       "20              1          1   \n",
       "21              1          1   \n",
       "22              0          1   \n",
       "23              0          0   \n",
       "24              0          0   \n",
       "25              1          1   \n",
       "26              0          1   \n",
       "27              1          1   \n",
       "28              1          1   \n",
       "29              1          1   \n",
       "...           ...        ...   \n",
       "29856           1          1   \n",
       "29857           1          1   \n",
       "29858           1          1   \n",
       "29859           0          1   \n",
       "29860           0          0   \n",
       "29861           0          1   \n",
       "29862           0          0   \n",
       "29863           1          1   \n",
       "29864           1          1   \n",
       "29865           1          1   \n",
       "29866           1          1   \n",
       "29867           0          1   \n",
       "29868           1          1   \n",
       "29869           0          0   \n",
       "29870           0          0   \n",
       "29871           1          1   \n",
       "29872           0          0   \n",
       "29873           0          0   \n",
       "29874           1          1   \n",
       "29875           1          1   \n",
       "29876           0          1   \n",
       "29877           1          0   \n",
       "29878           1          1   \n",
       "29879           0          1   \n",
       "29880           1          1   \n",
       "29881           0          0   \n",
       "29882           1          1   \n",
       "29883           1          0   \n",
       "29884           1          1   \n",
       "29885           1          1   \n",
       "\n",
       "                                                    Text  \n",
       "0              that is wanted take you i am sorry failed  \n",
       "1      maths gcse tomorrow  haha listening mcfly watc...  \n",
       "2      gotta take break muay thai monthgotta see ill ...  \n",
       "3                  quest available get epic flying skill  \n",
       "4      one quotunnecessarilyquot quotredundantquot un...  \n",
       "5                                             lucky love  \n",
       "6                                 life always good right  \n",
       "7           excellent hike weather west side cloudy cold  \n",
       "8                               yes castle time tomorrow  \n",
       "9                waves new followers good morning others  \n",
       "10                                                  ouch  \n",
       "11                                            haha yesss  \n",
       "12                                    hope get well soon  \n",
       "13                              i am going thatreal soon  \n",
       "14                                             ty luvies  \n",
       "15                                      gonna compete me  \n",
       "16                                   thanks letting know  \n",
       "17     especially like going green dance posters fine...  \n",
       "18                   no i am work getting updates bbespn  \n",
       "19     sucks twitter word limits sorry write multiple...  \n",
       "20     hair looked absolutely gorgeous bgt bob fringe...  \n",
       "21                    lunch garden blazing sun beautiful  \n",
       "22               oh u too going vote dont know yet going  \n",
       "23                                       want change hos  \n",
       "24                                            without me  \n",
       "25                                     ducati sexy bikes  \n",
       "26                                    thoughts precisely  \n",
       "27     here is solution everyone especially west mind...  \n",
       "28      i am okay lol theres always next year cavs st...  \n",
       "29       freezing extra warmth would greatly appreciated  \n",
       "...                                                  ...  \n",
       "29856  thanks encouragement love share hair color ski...  \n",
       "29857                    best wishes wife hope goes well  \n",
       "29858  mmm might still abc news breaky keep good figh...  \n",
       "29859  sorry alyssa 30 followers get tons unfollow wi...  \n",
       "29860  oh jenessa sweetie sux fck them srsly screw th...  \n",
       "29861                       heard new album fantastic x0  \n",
       "29862  glad great time i am sad amazing last night th...  \n",
       "29863        decided follow reading followfriday hope ok  \n",
       "29864                 get back u asap sweet dreams muah2  \n",
       "29865                                       ok try again  \n",
       "29866                          we are bffswe crunk class  \n",
       "29867  i am glad talked phone today even want crash d...  \n",
       "29868       thanks happy mother is day great moms around  \n",
       "29869  yay im sad got flight next weekend friends ben...  \n",
       "29870        oh miss smell rain rarely rains los angeles  \n",
       "29871      think mean ubertwitter uberberry love anyways  \n",
       "29872                             work slowly killing me  \n",
       "29873                         80085 wish calculator font  \n",
       "29874  jen  anytime like big idea forwardthinkers ste...  \n",
       "29875                          beauty shop w mom finally  \n",
       "29876         contd not hope flightgets delayed get lost  \n",
       "29877                                    cnt see ur face  \n",
       "29878  yeh twitter good distraction junk food quote i...  \n",
       "29879  maybe time site busyi playing past 3 hours wor...  \n",
       "29880                         lol guess would make sense  \n",
       "29881                    nope around 3am est tonight boo  \n",
       "29882     yes come goa try goan blogs meuamorblogspotcom  \n",
       "29883                                         changehate  \n",
       "29884  rock always liked steve perry arnel awesome gr...  \n",
       "29885     yeah part it skill point fit last tweet though  \n",
       "\n",
       "[29886 rows x 3 columns]"
      ]
     },
     "execution_count": 63,
     "metadata": {},
     "output_type": "execute_result"
    }
   ],
   "source": [
    "pd.DataFrame({'Text':X_test_text.values,'Sentiment':y_test.values, 'Prediction': predict.reshape(-1)})"
   ]
  }
 ],
 "metadata": {
  "kernelspec": {
   "display_name": "Python 3",
   "language": "python",
   "name": "python3"
  },
  "language_info": {
   "codemirror_mode": {
    "name": "ipython",
    "version": 3
   },
   "file_extension": ".py",
   "mimetype": "text/x-python",
   "name": "python",
   "nbconvert_exporter": "python",
   "pygments_lexer": "ipython3",
   "version": "3.5.5"
  },
  "toc": {
   "base_numbering": 1,
   "nav_menu": {},
   "number_sections": true,
   "sideBar": true,
   "skip_h1_title": false,
   "title_cell": "Table of Contents",
   "title_sidebar": "Contents",
   "toc_cell": false,
   "toc_position": {},
   "toc_section_display": true,
   "toc_window_display": true
  }
 },
 "nbformat": 4,
 "nbformat_minor": 2
}
