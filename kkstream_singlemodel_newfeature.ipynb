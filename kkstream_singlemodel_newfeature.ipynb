{
 "cells": [
  {
   "cell_type": "markdown",
   "metadata": {},
   "source": [
    "# Import Data and Libraries"
   ]
  },
  {
   "cell_type": "code",
   "execution_count": 1,
   "metadata": {
    "ExecuteTime": {
     "end_time": "2018-08-07T09:30:31.306574Z",
     "start_time": "2018-08-07T09:30:31.302557Z"
    }
   },
   "outputs": [],
   "source": [
    "import csv\n",
    "import numpy as np\n",
    "import os"
   ]
  },
  {
   "cell_type": "code",
   "execution_count": 2,
   "metadata": {
    "ExecuteTime": {
     "end_time": "2018-08-07T09:30:33.004998Z",
     "start_time": "2018-08-07T09:30:31.739020Z"
    }
   },
   "outputs": [],
   "source": [
    "import pandas as pd\n",
    "import matplotlib.pyplot as plt\n",
    "import seaborn as sns\n",
    "from sklearn import preprocessing\n",
    "from scipy import stats\n",
    "from sklearn.linear_model import LinearRegression\n",
    "from sklearn.model_selection import train_test_split\n",
    "from sklearn.feature_selection import RFE\n",
    "from sklearn.linear_model import LogisticRegression\n",
    "from sklearn import metrics\n",
    "from sklearn import model_selection\n",
    "from sklearn.model_selection import cross_val_score\n",
    "from sklearn.model_selection import KFold\n",
    "from sklearn.metrics import accuracy_score\n",
    "from sklearn.ensemble import RandomForestClassifier\n",
    "from sklearn.decomposition import PCA\n",
    "from sklearn.metrics import precision_recall_curve\n",
    "from sklearn.tree import DecisionTreeClassifier\n",
    "from sklearn.metrics import roc_auc_score\n",
    "from sklearn.metrics import roc_curve"
   ]
  },
  {
   "cell_type": "code",
   "execution_count": 3,
   "metadata": {
    "ExecuteTime": {
     "end_time": "2018-08-07T09:30:33.034880Z",
     "start_time": "2018-08-07T09:30:33.027898Z"
    }
   },
   "outputs": [],
   "source": [
    "dataset = np.load('D:/python_practice/kkstream/datasets/datasets/v0_eigens.npz')"
   ]
  },
  {
   "cell_type": "code",
   "execution_count": 4,
   "metadata": {
    "ExecuteTime": {
     "end_time": "2018-08-07T09:30:33.715577Z",
     "start_time": "2018-08-07T09:30:33.708600Z"
    }
   },
   "outputs": [
    {
     "data": {
      "text/plain": [
       "numpy.lib.npyio.NpzFile"
      ]
     },
     "execution_count": 4,
     "metadata": {},
     "output_type": "execute_result"
    }
   ],
   "source": [
    "type(dataset)"
   ]
  },
  {
   "cell_type": "code",
   "execution_count": 5,
   "metadata": {
    "ExecuteTime": {
     "end_time": "2018-08-07T09:30:34.502573Z",
     "start_time": "2018-08-07T09:30:34.499573Z"
    }
   },
   "outputs": [],
   "source": [
    "# d = dict(zip((\"data1{}\".format(k) for k in dataset), (dataset[k] for k in dataset)))\n",
    "# print(d)"
   ]
  },
  {
   "cell_type": "markdown",
   "metadata": {},
   "source": [
    "# Preprocessed Data"
   ]
  },
  {
   "cell_type": "code",
   "execution_count": 6,
   "metadata": {
    "ExecuteTime": {
     "end_time": "2018-08-07T09:30:35.158279Z",
     "start_time": "2018-08-07T09:30:35.153292Z"
    }
   },
   "outputs": [],
   "source": [
    "def predict(features):\n",
    "    \"\"\n",
    "    \"\"\n",
    "    # NOTE: guess with random probabilities. the AUC should be closed to 0.5.\n",
    "    n, v = features.shape\n",
    "\n",
    "    return np.random.random((n, 28))"
   ]
  },
  {
   "cell_type": "code",
   "execution_count": 7,
   "metadata": {
    "ExecuteTime": {
     "end_time": "2018-08-07T09:30:35.617495Z",
     "start_time": "2018-08-07T09:30:35.610512Z"
    }
   },
   "outputs": [],
   "source": [
    "def write_result(name, predictions):\n",
    "    \"\"\"\n",
    "    \"\"\"\n",
    "    if predictions is None:\n",
    "        raise Exception('need predictions')\n",
    "\n",
    "    predictions = predictions.flatten()\n",
    "\n",
    "    if not os.path.exists('./results/'):\n",
    "        os.makedirs('./results/')\n",
    "\n",
    "    path = os.path.join('./results/', name)\n",
    "\n",
    "    with open(path, 'wt', encoding='utf-8', newline='') as csv_target_file:\n",
    "        target_writer = csv.writer(csv_target_file, lineterminator='\\n')\n",
    "\n",
    "        header = [\n",
    "            'user_id',\n",
    "            'time_slot_0', 'time_slot_1', 'time_slot_2', 'time_slot_3',\n",
    "            'time_slot_4', 'time_slot_5', 'time_slot_6', 'time_slot_7',\n",
    "            'time_slot_8', 'time_slot_9', 'time_slot_10', 'time_slot_11',\n",
    "            'time_slot_12', 'time_slot_13', 'time_slot_14', 'time_slot_15',\n",
    "            'time_slot_16', 'time_slot_17', 'time_slot_18', 'time_slot_19',\n",
    "            'time_slot_20', 'time_slot_21', 'time_slot_22', 'time_slot_23',\n",
    "            'time_slot_24', 'time_slot_25', 'time_slot_26', 'time_slot_27',\n",
    "        ]\n",
    "\n",
    "        target_writer.writerow(header)\n",
    "\n",
    "        for i in range(0, len(predictions), 28):\n",
    "            # NOTE: 57159 is the offset of user ids\n",
    "            userid = [57159 + i // 28]\n",
    "            labels = predictions[i:i+28].tolist()\n",
    "\n",
    "            target_writer.writerow(userid + labels)"
   ]
  },
  {
   "cell_type": "code",
   "execution_count": 8,
   "metadata": {
    "ExecuteTime": {
     "end_time": "2018-08-07T09:30:37.605684Z",
     "start_time": "2018-08-07T09:30:36.331850Z"
    }
   },
   "outputs": [
    {
     "name": "stdout",
     "output_type": "stream",
     "text": [
      "train_eigens.shape = (57159, 896)\n",
      "train_labels.shape = (57159, 28)\n"
     ]
    }
   ],
   "source": [
    "train_data = dataset['train_eigens']\n",
    "\n",
    "# NOTE: a 896d feature vector for each user, the 28d vector in the end are\n",
    "#       labels\n",
    "#       896 = 32 (weeks) x 7 (days a week) x 4 (segments a day)\n",
    "train_eigens = train_data[:, :-28].reshape(-1, 896)\n",
    "train_labels = train_data[:, -28:]\n",
    "\n",
    "# NOTE: read features of test set\n",
    "test_eigens = dataset['issue_eigens'][:, :-28].reshape(-1, 896)\n",
    "\n",
    "# NOTE: check the shape of the prepared dataset\n",
    "print('train_eigens.shape = {}'.format(train_eigens.shape)) #train X\n",
    "print('train_labels.shape = {}'.format(train_labels.shape)) #train y"
   ]
  },
  {
   "cell_type": "code",
   "execution_count": 14,
   "metadata": {},
   "outputs": [],
   "source": [
    "#df = pd.DataFrame(data=train_eigens)"
   ]
  },
  {
   "cell_type": "code",
   "execution_count": 27,
   "metadata": {},
   "outputs": [],
   "source": [
    "#df_y = pd.DataFrame(data=train_labels) #未來一周內 使用者是否在這個時段看劇"
   ]
  },
  {
   "cell_type": "code",
   "execution_count": 16,
   "metadata": {},
   "outputs": [],
   "source": [
    "#df_valid = pd.DataFrame(data=valid_eigens)"
   ]
  },
  {
   "cell_type": "code",
   "execution_count": 26,
   "metadata": {},
   "outputs": [],
   "source": [
    "#df_valid_y = pd.DataFrame(data=valid_labels)"
   ]
  },
  {
   "cell_type": "code",
   "execution_count": 9,
   "metadata": {
    "ExecuteTime": {
     "end_time": "2018-08-07T09:30:42.791807Z",
     "start_time": "2018-08-07T09:30:42.783830Z"
    }
   },
   "outputs": [],
   "source": [
    "df_test = pd.DataFrame(data=test_eigens)"
   ]
  },
  {
   "cell_type": "code",
   "execution_count": 10,
   "metadata": {
    "ExecuteTime": {
     "end_time": "2018-08-07T09:30:43.922297Z",
     "start_time": "2018-08-07T09:30:43.121993Z"
    },
    "scrolled": true
   },
   "outputs": [],
   "source": [
    "all_train = pd.DataFrame(data=dataset['train_eigens'][:, :-28].reshape(-1, 896))"
   ]
  },
  {
   "cell_type": "code",
   "execution_count": 11,
   "metadata": {
    "ExecuteTime": {
     "end_time": "2018-08-07T09:30:44.995296Z",
     "start_time": "2018-08-07T09:30:44.174239Z"
    }
   },
   "outputs": [],
   "source": [
    "all_train_y = pd.DataFrame(data=dataset['train_eigens'][:, -28:])"
   ]
  },
  {
   "cell_type": "markdown",
   "metadata": {},
   "source": [
    "# Create New Features"
   ]
  },
  {
   "cell_type": "code",
   "execution_count": 12,
   "metadata": {
    "ExecuteTime": {
     "end_time": "2018-08-07T09:30:46.337410Z",
     "start_time": "2018-08-07T09:30:46.331427Z"
    }
   },
   "outputs": [],
   "source": [
    "def new_feature(train):\n",
    "    for i in range(1,9): #整理最近 i 周的觀看次數\n",
    "        if i == 1:\n",
    "            temp = train.iloc[:,(train.shape[1]-28*i):].apply(sum,axis=1) #計算每一週\n",
    "            new = pd.concat([train, temp], axis=1)\n",
    "        else:\n",
    "            temp = train.iloc[:,(train.shape[1]-28*i):(train.shape[1]-28*(i-1)):].apply(sum,axis=1) #計算每一週\n",
    "            new = pd.concat([new, temp], axis=1)\n",
    "    \n",
    "    mon = new.iloc[:,new.shape[1]-4:].apply(sum,axis=1) #最近1個月的觀看次數\n",
    "    mon2 = new.iloc[:,new.shape[1]-8:new.shape[1]-4].apply(sum,axis=1) #最近2個月的觀看次數\n",
    "    new = pd.concat([new, mon, mon2], axis=1)\n",
    "    new.columns = [x for x in range(0,new.shape[1])]\n",
    "    \n",
    "    return new"
   ]
  },
  {
   "cell_type": "code",
   "execution_count": 13,
   "metadata": {
    "ExecuteTime": {
     "end_time": "2018-08-07T09:30:49.131158Z",
     "start_time": "2018-08-07T09:30:49.122180Z"
    },
    "scrolled": true
   },
   "outputs": [
    {
     "data": {
      "text/plain": [
       "array([  0,   1,   2,   3,   4,   5,   6,   7,   8,   9,  10,  11,  12,\n",
       "        13,  14,  15,  16,  17,  18,  19,  20,  21,  22,  23,  24,  25,\n",
       "        26,  27,  28,  29,  30,  31,  32,  33,  34,  35,  36,  37,  38,\n",
       "        39,  40,  41,  42,  43,  44,  45,  46,  47,  48,  49,  50,  51,\n",
       "        52,  53,  54,  55,  56,  57,  58,  59,  60,  61,  62,  63,  64,\n",
       "        65,  66,  67,  68,  69,  70,  71,  72,  73,  74,  75,  76,  77,\n",
       "        78,  79,  80,  81,  82,  83,  84,  85,  86,  87,  88,  89,  90,\n",
       "        91,  92,  93,  94,  95,  96,  97,  98,  99, 100, 101, 102, 103,\n",
       "       104, 105, 106, 107, 108, 109, 110, 111, 112, 113, 114, 115, 116,\n",
       "       117, 118, 119, 120, 121, 122, 123, 124, 125, 126, 127, 128, 129,\n",
       "       130, 131, 132, 133, 134, 135, 136, 137, 138, 139, 140, 141, 142,\n",
       "       143, 144, 145, 146, 147, 148, 149, 150, 151, 152, 153, 154, 155,\n",
       "       156, 157, 158, 159, 160, 161, 162, 163, 164, 165, 166, 167, 168,\n",
       "       169, 170, 171, 172, 173, 174, 175, 176, 177, 178, 179, 180, 181,\n",
       "       182, 183, 184, 185, 186, 187, 188, 189, 190, 191, 192, 193, 194,\n",
       "       195, 196, 197, 198, 199, 200, 201, 202, 203, 204, 205, 206, 207,\n",
       "       208, 209, 210, 211, 212, 213, 214, 215, 216, 217, 218, 219, 220,\n",
       "       221, 222, 223, 224, 225, 226, 227, 228, 229, 230, 231, 232, 233,\n",
       "       234, 235, 236, 237, 238, 239, 240, 241, 242, 243, 244, 245, 246,\n",
       "       247, 248, 249, 250, 251, 252, 253, 254, 255, 256, 257, 258, 259,\n",
       "       260, 261, 262, 263, 264, 265, 266, 267, 268, 269, 270, 271, 272,\n",
       "       273, 274, 275, 276, 277, 278, 279, 280, 281, 282, 283, 284, 285,\n",
       "       286, 287, 288, 289, 290, 291, 292, 293, 294, 295, 296, 297, 298,\n",
       "       299, 300, 301, 302, 303, 304, 305, 306, 307, 308, 309, 310, 311,\n",
       "       312, 313, 314, 315, 316, 317, 318, 319, 320, 321, 322, 323, 324,\n",
       "       325, 326, 327, 328, 329, 330, 331, 332, 333, 334, 335, 336, 337,\n",
       "       338, 339, 340, 341, 342, 343, 344, 345, 346, 347, 348, 349, 350,\n",
       "       351, 352, 353, 354, 355, 356, 357, 358, 359, 360, 361, 362, 363,\n",
       "       364, 365, 366, 367, 368, 369, 370, 371, 372, 373, 374, 375, 376,\n",
       "       377, 378, 379, 380, 381, 382, 383, 384, 385, 386, 387, 388, 389,\n",
       "       390, 391, 392, 393, 394, 395, 396, 397, 398, 399, 400, 401, 402,\n",
       "       403, 404, 405, 406, 407, 408, 409, 410, 411, 412, 413, 414, 415,\n",
       "       416, 417, 418, 419, 420, 421, 422, 423, 424, 425, 426, 427, 428,\n",
       "       429, 430, 431, 432, 433, 434, 435, 436, 437, 438, 439, 440, 441,\n",
       "       442, 443, 444, 445, 446, 447, 448, 449, 450, 451, 452, 453, 454,\n",
       "       455, 456, 457, 458, 459, 460, 461, 462, 463, 464, 465, 466, 467,\n",
       "       468, 469, 470, 471, 472, 473, 474, 475, 476, 477, 478, 479, 480,\n",
       "       481, 482, 483, 484, 485, 486, 487, 488, 489, 490, 491, 492, 493,\n",
       "       494, 495, 496, 497, 498, 499, 500, 501, 502, 503, 504, 505, 506,\n",
       "       507, 508, 509, 510, 511, 512, 513, 514, 515, 516, 517, 518, 519,\n",
       "       520, 521, 522, 523, 524, 525, 526, 527, 528, 529, 530, 531, 532,\n",
       "       533, 534, 535, 536, 537, 538, 539, 540, 541, 542, 543, 544, 545,\n",
       "       546, 547, 548, 549, 550, 551, 552, 553, 554, 555, 556, 557, 558,\n",
       "       559, 560, 561, 562, 563, 564, 565, 566, 567, 568, 569, 570, 571,\n",
       "       572, 573, 574, 575, 576, 577, 578, 579, 580, 581, 582, 583, 584,\n",
       "       585, 586, 587, 588, 589, 590, 591, 592, 593, 594, 595, 596, 597,\n",
       "       598, 599, 600, 601, 602, 603, 604, 605, 606, 607, 608, 609, 610,\n",
       "       611, 612, 613, 614, 615, 616, 617, 618, 619, 620, 621, 622, 623,\n",
       "       624, 625, 626, 627, 628, 629, 630, 631, 632, 633, 634, 635, 636,\n",
       "       637, 638, 639, 640, 641, 642, 643, 644, 645, 646, 647, 648, 649,\n",
       "       650, 651, 652, 653, 654, 655, 656, 657, 658, 659, 660, 661, 662,\n",
       "       663, 664, 665, 666, 667, 668, 669, 670, 671, 672, 673, 674, 675,\n",
       "       676, 677, 678, 679, 680, 681, 682, 683, 684, 685, 686, 687, 688,\n",
       "       689, 690, 691, 692, 693, 694, 695, 696, 697, 698, 699, 700, 701,\n",
       "       702, 703, 704, 705, 706, 707, 708, 709, 710, 711, 712, 713, 714,\n",
       "       715, 716, 717, 718, 719, 720, 721, 722, 723, 724, 725, 726, 727,\n",
       "       728, 729, 730, 731, 732, 733, 734, 735, 736, 737, 738, 739, 740,\n",
       "       741, 742, 743, 744, 745, 746, 747, 748, 749, 750, 751, 752, 753,\n",
       "       754, 755, 756, 757, 758, 759, 760, 761, 762, 763, 764, 765, 766,\n",
       "       767, 768, 769, 770, 771, 772, 773, 774, 775, 776, 777, 778, 779,\n",
       "       780, 781, 782, 783, 784, 785, 786, 787, 788, 789, 790, 791, 792,\n",
       "       793, 794, 795, 796, 797, 798, 799, 800, 801, 802, 803, 804, 805,\n",
       "       806, 807, 808, 809, 810, 811, 812, 813, 814, 815, 816, 817, 818,\n",
       "       819, 820, 821, 822, 823, 824, 825, 826, 827, 828, 829, 830, 831,\n",
       "       832, 833, 834, 835, 836, 837, 838, 839, 840, 841, 842, 843, 844,\n",
       "       845, 846, 847, 848, 849, 850, 851, 852, 853, 854, 855, 856, 857,\n",
       "       858, 859, 860, 861, 862, 863, 864, 865, 866, 867, 868, 869, 870,\n",
       "       871, 872, 873, 874, 875, 876, 877, 878, 879, 880, 881, 882, 883,\n",
       "       884, 885, 886, 887, 888, 889, 890, 891, 892, 893, 894, 895])"
      ]
     },
     "execution_count": 13,
     "metadata": {},
     "output_type": "execute_result"
    }
   ],
   "source": [
    "np.array(range(all_train.shape[1]))"
   ]
  },
  {
   "cell_type": "code",
   "execution_count": 14,
   "metadata": {
    "ExecuteTime": {
     "end_time": "2018-08-07T09:31:12.662580Z",
     "start_time": "2018-08-07T09:30:55.438046Z"
    }
   },
   "outputs": [],
   "source": [
    "new_train = new_feature(all_train)"
   ]
  },
  {
   "cell_type": "code",
   "execution_count": 15,
   "metadata": {
    "ExecuteTime": {
     "end_time": "2018-08-07T09:31:29.465346Z",
     "start_time": "2018-08-07T09:31:13.169882Z"
    }
   },
   "outputs": [],
   "source": [
    "new_train = new_feature(all_train)"
   ]
  },
  {
   "cell_type": "code",
   "execution_count": 17,
   "metadata": {
    "ExecuteTime": {
     "end_time": "2018-08-07T09:31:48.871884Z",
     "start_time": "2018-08-07T09:31:48.829996Z"
    },
    "scrolled": true
   },
   "outputs": [
    {
     "data": {
      "text/html": [
       "<div>\n",
       "<style scoped>\n",
       "    .dataframe tbody tr th:only-of-type {\n",
       "        vertical-align: middle;\n",
       "    }\n",
       "\n",
       "    .dataframe tbody tr th {\n",
       "        vertical-align: top;\n",
       "    }\n",
       "\n",
       "    .dataframe thead th {\n",
       "        text-align: right;\n",
       "    }\n",
       "</style>\n",
       "<table border=\"1\" class=\"dataframe\">\n",
       "  <thead>\n",
       "    <tr style=\"text-align: right;\">\n",
       "      <th></th>\n",
       "      <th>0</th>\n",
       "      <th>1</th>\n",
       "      <th>2</th>\n",
       "      <th>3</th>\n",
       "      <th>4</th>\n",
       "      <th>5</th>\n",
       "      <th>6</th>\n",
       "      <th>7</th>\n",
       "      <th>8</th>\n",
       "      <th>9</th>\n",
       "      <th>...</th>\n",
       "      <th>896</th>\n",
       "      <th>897</th>\n",
       "      <th>898</th>\n",
       "      <th>899</th>\n",
       "      <th>900</th>\n",
       "      <th>901</th>\n",
       "      <th>902</th>\n",
       "      <th>903</th>\n",
       "      <th>904</th>\n",
       "      <th>905</th>\n",
       "    </tr>\n",
       "  </thead>\n",
       "  <tbody>\n",
       "    <tr>\n",
       "      <th>0</th>\n",
       "      <td>0.0</td>\n",
       "      <td>0.0</td>\n",
       "      <td>0.0</td>\n",
       "      <td>0.0</td>\n",
       "      <td>0.0</td>\n",
       "      <td>0.0</td>\n",
       "      <td>0.0</td>\n",
       "      <td>0.0</td>\n",
       "      <td>0.0</td>\n",
       "      <td>0.0</td>\n",
       "      <td>...</td>\n",
       "      <td>0.0</td>\n",
       "      <td>0.0</td>\n",
       "      <td>0.0</td>\n",
       "      <td>0.0</td>\n",
       "      <td>0.0</td>\n",
       "      <td>0.0</td>\n",
       "      <td>1.0</td>\n",
       "      <td>0.0</td>\n",
       "      <td>1.0</td>\n",
       "      <td>0.0</td>\n",
       "    </tr>\n",
       "    <tr>\n",
       "      <th>1</th>\n",
       "      <td>0.0</td>\n",
       "      <td>0.0</td>\n",
       "      <td>0.0</td>\n",
       "      <td>0.0</td>\n",
       "      <td>0.0</td>\n",
       "      <td>0.0</td>\n",
       "      <td>0.0</td>\n",
       "      <td>0.0</td>\n",
       "      <td>0.0</td>\n",
       "      <td>0.0</td>\n",
       "      <td>...</td>\n",
       "      <td>1.0</td>\n",
       "      <td>0.0</td>\n",
       "      <td>0.0</td>\n",
       "      <td>0.0</td>\n",
       "      <td>0.0</td>\n",
       "      <td>0.0</td>\n",
       "      <td>0.0</td>\n",
       "      <td>0.0</td>\n",
       "      <td>0.0</td>\n",
       "      <td>1.0</td>\n",
       "    </tr>\n",
       "    <tr>\n",
       "      <th>2</th>\n",
       "      <td>0.0</td>\n",
       "      <td>0.0</td>\n",
       "      <td>0.0</td>\n",
       "      <td>0.0</td>\n",
       "      <td>0.0</td>\n",
       "      <td>0.0</td>\n",
       "      <td>0.0</td>\n",
       "      <td>0.0</td>\n",
       "      <td>0.0</td>\n",
       "      <td>0.0</td>\n",
       "      <td>...</td>\n",
       "      <td>2.0</td>\n",
       "      <td>0.0</td>\n",
       "      <td>2.0</td>\n",
       "      <td>0.0</td>\n",
       "      <td>0.0</td>\n",
       "      <td>0.0</td>\n",
       "      <td>0.0</td>\n",
       "      <td>0.0</td>\n",
       "      <td>0.0</td>\n",
       "      <td>4.0</td>\n",
       "    </tr>\n",
       "    <tr>\n",
       "      <th>3</th>\n",
       "      <td>0.0</td>\n",
       "      <td>0.0</td>\n",
       "      <td>0.0</td>\n",
       "      <td>0.0</td>\n",
       "      <td>0.0</td>\n",
       "      <td>0.0</td>\n",
       "      <td>0.0</td>\n",
       "      <td>0.0</td>\n",
       "      <td>0.0</td>\n",
       "      <td>0.0</td>\n",
       "      <td>...</td>\n",
       "      <td>10.0</td>\n",
       "      <td>0.0</td>\n",
       "      <td>0.0</td>\n",
       "      <td>0.0</td>\n",
       "      <td>0.0</td>\n",
       "      <td>0.0</td>\n",
       "      <td>0.0</td>\n",
       "      <td>0.0</td>\n",
       "      <td>0.0</td>\n",
       "      <td>10.0</td>\n",
       "    </tr>\n",
       "    <tr>\n",
       "      <th>4</th>\n",
       "      <td>0.0</td>\n",
       "      <td>0.0</td>\n",
       "      <td>0.0</td>\n",
       "      <td>0.0</td>\n",
       "      <td>0.0</td>\n",
       "      <td>0.0</td>\n",
       "      <td>0.0</td>\n",
       "      <td>0.0</td>\n",
       "      <td>0.0</td>\n",
       "      <td>0.0</td>\n",
       "      <td>...</td>\n",
       "      <td>11.0</td>\n",
       "      <td>18.0</td>\n",
       "      <td>20.0</td>\n",
       "      <td>21.0</td>\n",
       "      <td>21.0</td>\n",
       "      <td>12.0</td>\n",
       "      <td>0.0</td>\n",
       "      <td>0.0</td>\n",
       "      <td>33.0</td>\n",
       "      <td>70.0</td>\n",
       "    </tr>\n",
       "  </tbody>\n",
       "</table>\n",
       "<p>5 rows × 906 columns</p>\n",
       "</div>"
      ],
      "text/plain": [
       "   0    1    2    3    4    5    6    7    8    9    ...    896   897   898  \\\n",
       "0  0.0  0.0  0.0  0.0  0.0  0.0  0.0  0.0  0.0  0.0  ...    0.0   0.0   0.0   \n",
       "1  0.0  0.0  0.0  0.0  0.0  0.0  0.0  0.0  0.0  0.0  ...    1.0   0.0   0.0   \n",
       "2  0.0  0.0  0.0  0.0  0.0  0.0  0.0  0.0  0.0  0.0  ...    2.0   0.0   2.0   \n",
       "3  0.0  0.0  0.0  0.0  0.0  0.0  0.0  0.0  0.0  0.0  ...   10.0   0.0   0.0   \n",
       "4  0.0  0.0  0.0  0.0  0.0  0.0  0.0  0.0  0.0  0.0  ...   11.0  18.0  20.0   \n",
       "\n",
       "    899   900   901  902  903   904   905  \n",
       "0   0.0   0.0   0.0  1.0  0.0   1.0   0.0  \n",
       "1   0.0   0.0   0.0  0.0  0.0   0.0   1.0  \n",
       "2   0.0   0.0   0.0  0.0  0.0   0.0   4.0  \n",
       "3   0.0   0.0   0.0  0.0  0.0   0.0  10.0  \n",
       "4  21.0  21.0  12.0  0.0  0.0  33.0  70.0  \n",
       "\n",
       "[5 rows x 906 columns]"
      ]
     },
     "execution_count": 17,
     "metadata": {},
     "output_type": "execute_result"
    }
   ],
   "source": [
    "new_train.head()"
   ]
  },
  {
   "cell_type": "code",
   "execution_count": 18,
   "metadata": {
    "ExecuteTime": {
     "end_time": "2018-08-07T09:31:52.181367Z",
     "start_time": "2018-08-07T09:31:52.172393Z"
    }
   },
   "outputs": [
    {
     "data": {
      "text/plain": [
       "896"
      ]
     },
     "execution_count": 18,
     "metadata": {},
     "output_type": "execute_result"
    }
   ],
   "source": [
    "(new_train.iloc[0,:896]==all_train.iloc[0,:]).sum()"
   ]
  },
  {
   "cell_type": "code",
   "execution_count": 19,
   "metadata": {
    "ExecuteTime": {
     "end_time": "2018-08-07T09:32:03.970745Z",
     "start_time": "2018-08-07T09:31:53.074864Z"
    }
   },
   "outputs": [],
   "source": [
    "new_test = new_feature(df_test)"
   ]
  },
  {
   "cell_type": "code",
   "execution_count": 20,
   "metadata": {
    "ExecuteTime": {
     "end_time": "2018-08-07T09:32:04.477671Z",
     "start_time": "2018-08-07T09:32:04.472685Z"
    }
   },
   "outputs": [
    {
     "data": {
      "text/plain": [
       "(37092, 906)"
      ]
     },
     "execution_count": 20,
     "metadata": {},
     "output_type": "execute_result"
    }
   ],
   "source": [
    "new_test.shape"
   ]
  },
  {
   "cell_type": "code",
   "execution_count": 21,
   "metadata": {
    "ExecuteTime": {
     "end_time": "2018-08-07T09:32:04.989272Z",
     "start_time": "2018-08-07T09:32:04.958357Z"
    }
   },
   "outputs": [
    {
     "data": {
      "text/html": [
       "<div>\n",
       "<style scoped>\n",
       "    .dataframe tbody tr th:only-of-type {\n",
       "        vertical-align: middle;\n",
       "    }\n",
       "\n",
       "    .dataframe tbody tr th {\n",
       "        vertical-align: top;\n",
       "    }\n",
       "\n",
       "    .dataframe thead th {\n",
       "        text-align: right;\n",
       "    }\n",
       "</style>\n",
       "<table border=\"1\" class=\"dataframe\">\n",
       "  <thead>\n",
       "    <tr style=\"text-align: right;\">\n",
       "      <th></th>\n",
       "      <th>0</th>\n",
       "      <th>1</th>\n",
       "      <th>2</th>\n",
       "      <th>3</th>\n",
       "      <th>4</th>\n",
       "      <th>5</th>\n",
       "      <th>6</th>\n",
       "      <th>7</th>\n",
       "      <th>8</th>\n",
       "      <th>9</th>\n",
       "      <th>...</th>\n",
       "      <th>896</th>\n",
       "      <th>897</th>\n",
       "      <th>898</th>\n",
       "      <th>899</th>\n",
       "      <th>900</th>\n",
       "      <th>901</th>\n",
       "      <th>902</th>\n",
       "      <th>903</th>\n",
       "      <th>904</th>\n",
       "      <th>905</th>\n",
       "    </tr>\n",
       "  </thead>\n",
       "  <tbody>\n",
       "    <tr>\n",
       "      <th>0</th>\n",
       "      <td>0.0</td>\n",
       "      <td>0.0</td>\n",
       "      <td>0.0</td>\n",
       "      <td>0.0</td>\n",
       "      <td>0.0</td>\n",
       "      <td>0.0</td>\n",
       "      <td>0.0</td>\n",
       "      <td>0.0</td>\n",
       "      <td>0.0</td>\n",
       "      <td>0.0</td>\n",
       "      <td>...</td>\n",
       "      <td>15.0</td>\n",
       "      <td>9.0</td>\n",
       "      <td>13.0</td>\n",
       "      <td>22.0</td>\n",
       "      <td>11.0</td>\n",
       "      <td>8.0</td>\n",
       "      <td>18.0</td>\n",
       "      <td>21.0</td>\n",
       "      <td>58.0</td>\n",
       "      <td>59.0</td>\n",
       "    </tr>\n",
       "    <tr>\n",
       "      <th>1</th>\n",
       "      <td>0.0</td>\n",
       "      <td>0.0</td>\n",
       "      <td>0.0</td>\n",
       "      <td>0.0</td>\n",
       "      <td>0.0</td>\n",
       "      <td>0.0</td>\n",
       "      <td>0.0</td>\n",
       "      <td>0.0</td>\n",
       "      <td>0.0</td>\n",
       "      <td>0.0</td>\n",
       "      <td>...</td>\n",
       "      <td>4.0</td>\n",
       "      <td>4.0</td>\n",
       "      <td>4.0</td>\n",
       "      <td>4.0</td>\n",
       "      <td>6.0</td>\n",
       "      <td>15.0</td>\n",
       "      <td>4.0</td>\n",
       "      <td>0.0</td>\n",
       "      <td>25.0</td>\n",
       "      <td>16.0</td>\n",
       "    </tr>\n",
       "    <tr>\n",
       "      <th>2</th>\n",
       "      <td>0.0</td>\n",
       "      <td>0.0</td>\n",
       "      <td>0.0</td>\n",
       "      <td>0.0</td>\n",
       "      <td>0.0</td>\n",
       "      <td>0.0</td>\n",
       "      <td>0.0</td>\n",
       "      <td>0.0</td>\n",
       "      <td>0.0</td>\n",
       "      <td>0.0</td>\n",
       "      <td>...</td>\n",
       "      <td>0.0</td>\n",
       "      <td>1.0</td>\n",
       "      <td>2.0</td>\n",
       "      <td>0.0</td>\n",
       "      <td>0.0</td>\n",
       "      <td>0.0</td>\n",
       "      <td>0.0</td>\n",
       "      <td>0.0</td>\n",
       "      <td>0.0</td>\n",
       "      <td>3.0</td>\n",
       "    </tr>\n",
       "    <tr>\n",
       "      <th>3</th>\n",
       "      <td>0.0</td>\n",
       "      <td>0.0</td>\n",
       "      <td>0.0</td>\n",
       "      <td>0.0</td>\n",
       "      <td>0.0</td>\n",
       "      <td>0.0</td>\n",
       "      <td>0.0</td>\n",
       "      <td>0.0</td>\n",
       "      <td>0.0</td>\n",
       "      <td>0.0</td>\n",
       "      <td>...</td>\n",
       "      <td>5.0</td>\n",
       "      <td>2.0</td>\n",
       "      <td>2.0</td>\n",
       "      <td>0.0</td>\n",
       "      <td>0.0</td>\n",
       "      <td>4.0</td>\n",
       "      <td>2.0</td>\n",
       "      <td>2.0</td>\n",
       "      <td>8.0</td>\n",
       "      <td>9.0</td>\n",
       "    </tr>\n",
       "    <tr>\n",
       "      <th>4</th>\n",
       "      <td>0.0</td>\n",
       "      <td>0.0</td>\n",
       "      <td>0.0</td>\n",
       "      <td>0.0</td>\n",
       "      <td>0.0</td>\n",
       "      <td>0.0</td>\n",
       "      <td>0.0</td>\n",
       "      <td>0.0</td>\n",
       "      <td>0.0</td>\n",
       "      <td>0.0</td>\n",
       "      <td>...</td>\n",
       "      <td>0.0</td>\n",
       "      <td>5.0</td>\n",
       "      <td>0.0</td>\n",
       "      <td>0.0</td>\n",
       "      <td>0.0</td>\n",
       "      <td>0.0</td>\n",
       "      <td>0.0</td>\n",
       "      <td>0.0</td>\n",
       "      <td>0.0</td>\n",
       "      <td>5.0</td>\n",
       "    </tr>\n",
       "  </tbody>\n",
       "</table>\n",
       "<p>5 rows × 906 columns</p>\n",
       "</div>"
      ],
      "text/plain": [
       "   0    1    2    3    4    5    6    7    8    9    ...    896  897   898  \\\n",
       "0  0.0  0.0  0.0  0.0  0.0  0.0  0.0  0.0  0.0  0.0  ...   15.0  9.0  13.0   \n",
       "1  0.0  0.0  0.0  0.0  0.0  0.0  0.0  0.0  0.0  0.0  ...    4.0  4.0   4.0   \n",
       "2  0.0  0.0  0.0  0.0  0.0  0.0  0.0  0.0  0.0  0.0  ...    0.0  1.0   2.0   \n",
       "3  0.0  0.0  0.0  0.0  0.0  0.0  0.0  0.0  0.0  0.0  ...    5.0  2.0   2.0   \n",
       "4  0.0  0.0  0.0  0.0  0.0  0.0  0.0  0.0  0.0  0.0  ...    0.0  5.0   0.0   \n",
       "\n",
       "    899   900   901   902   903   904   905  \n",
       "0  22.0  11.0   8.0  18.0  21.0  58.0  59.0  \n",
       "1   4.0   6.0  15.0   4.0   0.0  25.0  16.0  \n",
       "2   0.0   0.0   0.0   0.0   0.0   0.0   3.0  \n",
       "3   0.0   0.0   4.0   2.0   2.0   8.0   9.0  \n",
       "4   0.0   0.0   0.0   0.0   0.0   0.0   5.0  \n",
       "\n",
       "[5 rows x 906 columns]"
      ]
     },
     "execution_count": 21,
     "metadata": {},
     "output_type": "execute_result"
    }
   ],
   "source": [
    "new_test.head()"
   ]
  },
  {
   "cell_type": "markdown",
   "metadata": {},
   "source": [
    "# Train"
   ]
  },
  {
   "cell_type": "markdown",
   "metadata": {},
   "source": [
    "## some functions"
   ]
  },
  {
   "cell_type": "code",
   "execution_count": 64,
   "metadata": {},
   "outputs": [],
   "source": [
    "def cm(y_test, y_pred): #plot confusion matrix function\n",
    "    from sklearn.metrics import confusion_matrix\n",
    "    confusion_matrix = confusion_matrix(np.array(y_test), y_pred) #plot confusion matrix\n",
    "    df_cm = pd.DataFrame(confusion_matrix, range(2),range(2))\n",
    "    sns.set(font_scale=1.4) #for label size\n",
    "    sns.heatmap(df_cm, annot=True,annot_kws={\"size\": 16},cmap=\"YlGnBu\")# font size\n",
    "    plt.ylabel('True label')\n",
    "    plt.xlabel('Predicted label')"
   ]
  },
  {
   "cell_type": "code",
   "execution_count": 65,
   "metadata": {},
   "outputs": [],
   "source": [
    "def class_view(y_test, y_pred): #view classification report\n",
    "    from sklearn.metrics import classification_report\n",
    "    print(classification_report(np.array(y_test), y_pred))"
   ]
  },
  {
   "cell_type": "code",
   "execution_count": 66,
   "metadata": {},
   "outputs": [],
   "source": [
    "def plot_roc(X_test, y_test, model):\n",
    "    y_score = model.predict_proba(X_test)[:,1]\n",
    "    rf_roc_auc_lr = roc_auc_score(np.array(y_test), y_score)\n",
    "    print(\"AUC = %.4f\" % rf_roc_auc_lr)\n",
    "    fpr_lr, tpr_lr, thresholds_lr = roc_curve(np.array(y_test), y_score)\n",
    "    plt.figure()\n",
    "    plt.plot(fpr_lr, tpr_lr, label='%s (area = %0.2f)' % ('model', rf_roc_auc_lr) )\n",
    "    plt.plot([0, 1], [0, 1],'r--')\n",
    "    plt.xlim([0.0, 1.0])\n",
    "    plt.ylim([0.0, 1.05])\n",
    "    plt.xlabel('False Positive Rate')\n",
    "    plt.ylabel('True Positive Rate')\n",
    "    plt.title('Receiver operating characteristic')\n",
    "    plt.legend(loc=\"lower right\")\n",
    "    plt.show()"
   ]
  },
  {
   "cell_type": "code",
   "execution_count": 67,
   "metadata": {},
   "outputs": [],
   "source": [
    "def precision_recall_curve(X_test, y_test, model):\n",
    "    \n",
    "    y_score = model.predict_proba(X_test)[:,1]\n",
    "    \n",
    "    precision_lr, recall_lr, thresholds_lr = precision_recall_curve(np.array(y_test), y_score)\n",
    "\n",
    "    plt.step(recall_lr, precision_lr, color='b', alpha=0.2, where='post')\n",
    "    plt.fill_between(recall_lr, precision_lr, step='post', alpha=0.2, color='b')\n",
    "\n",
    "    close_zero = np.argmin(np.abs(thresholds_lr-0.5)) #auc最大時的threshold\n",
    "    f1_lr=2*precision_lr*recall_lr/(precision_lr+recall_lr)\n",
    "    index_lr=np.argmax(f1_lr) #改成讓f1最大的threshold(之後享用的)\n",
    "\n",
    "    plt.scatter(recall_lr[close_zero], precision_lr[close_zero],c='b',marker='o',label='f1 = %.2f logistic' % f1_lr[close_zero])\n",
    "    plt.scatter(recall_lr[index_lr], precision_lr[index_lr],c='r',marker='^',label='f1 = %.2f logistic' % f1_lr[index_lr])\n",
    "\n",
    "    plt.xlabel('Recall')\n",
    "    plt.ylabel('Precision')\n",
    "    plt.ylim([0.0, 1.05])\n",
    "    plt.xlim([0.0, 1.0])\n",
    "    plt.legend(loc='best')\n",
    "    plt.title('2-class Precision-Recall curve of Logistic Regression')\n",
    "\n",
    "    print('threshold of best f1 : {:.3f}'.format(thresholds_lr[index_lr]))\n",
    "    print('threshold of train   : {:.3f}'.format(thresholds_lr[close_zero]))"
   ]
  },
  {
   "cell_type": "code",
   "execution_count": 22,
   "metadata": {
    "ExecuteTime": {
     "end_time": "2018-08-07T09:32:16.281729Z",
     "start_time": "2018-08-07T09:32:15.026404Z"
    }
   },
   "outputs": [],
   "source": [
    "train_data_size = dataset['train_eigens'].shape[0]\n",
    "valid_data_size = train_data_size // 5\n",
    "train_data_size = train_data_size - valid_data_size\n",
    "\n",
    "# NOTE: split dataset\n",
    "train_data = new_train.iloc[:train_data_size,:]\n",
    "valid_data = new_train.iloc[train_data_size:,:]\n",
    "\n",
    "#label\n",
    "train_label = train_labels[:train_data_size,:]\n",
    "valid_label = train_labels[train_data_size:,:]"
   ]
  },
  {
   "cell_type": "markdown",
   "metadata": {},
   "source": [
    "## Logistic"
   ]
  },
  {
   "cell_type": "code",
   "execution_count": null,
   "metadata": {},
   "outputs": [],
   "source": [
    "lr = LogisticRegression(C=0.1)\n",
    "for i in range(0,28):\n",
    "    lr.fit(train_data, train_label[:,i]) #train\n",
    "    pred_y = lr.predict_proba(valid_data)[:,1] #prediction on validation set\n",
    "    \n",
    "    print(\"i = %d\" % i)   \n",
    "    lr_roc_auc = roc_auc_score(valid_label[:,i], pred_y)\n",
    "    print(\"AUC: %5f\" % lr_roc_auc )"
   ]
  },
  {
   "cell_type": "code",
   "execution_count": 79,
   "metadata": {},
   "outputs": [
    {
     "ename": "KeyboardInterrupt",
     "evalue": "",
     "output_type": "error",
     "traceback": [
      "\u001b[1;31m---------------------------------------------------------------------------\u001b[0m",
      "\u001b[1;31mKeyboardInterrupt\u001b[0m                         Traceback (most recent call last)",
      "\u001b[1;32m<ipython-input-79-047998167361>\u001b[0m in \u001b[0;36m<module>\u001b[1;34m()\u001b[0m\n\u001b[0;32m      3\u001b[0m \u001b[1;32mfor\u001b[0m \u001b[0mi\u001b[0m \u001b[1;32min\u001b[0m \u001b[0mrange\u001b[0m\u001b[1;33m(\u001b[0m\u001b[1;36m0\u001b[0m\u001b[1;33m,\u001b[0m\u001b[1;36m28\u001b[0m\u001b[1;33m)\u001b[0m\u001b[1;33m:\u001b[0m\u001b[1;33m\u001b[0m\u001b[0m\n\u001b[0;32m      4\u001b[0m \u001b[1;33m\u001b[0m\u001b[0m\n\u001b[1;32m----> 5\u001b[1;33m     \u001b[0mlr\u001b[0m\u001b[1;33m.\u001b[0m\u001b[0mfit\u001b[0m\u001b[1;33m(\u001b[0m\u001b[0mnew_train\u001b[0m\u001b[1;33m,\u001b[0m \u001b[0mall_train_y\u001b[0m\u001b[1;33m.\u001b[0m\u001b[0miloc\u001b[0m\u001b[1;33m[\u001b[0m\u001b[1;33m:\u001b[0m\u001b[1;33m,\u001b[0m\u001b[0mi\u001b[0m\u001b[1;33m]\u001b[0m\u001b[1;33m)\u001b[0m \u001b[1;31m#train\u001b[0m\u001b[1;33m\u001b[0m\u001b[0m\n\u001b[0m\u001b[0;32m      6\u001b[0m     \u001b[0mpred_y\u001b[0m \u001b[1;33m=\u001b[0m \u001b[0mlr\u001b[0m\u001b[1;33m.\u001b[0m\u001b[0mpredict_proba\u001b[0m\u001b[1;33m(\u001b[0m\u001b[0mnew_test\u001b[0m\u001b[1;33m)\u001b[0m\u001b[1;33m[\u001b[0m\u001b[1;33m:\u001b[0m\u001b[1;33m,\u001b[0m\u001b[1;36m1\u001b[0m\u001b[1;33m]\u001b[0m \u001b[1;31m#prediction on test set\u001b[0m\u001b[1;33m\u001b[0m\u001b[0m\n\u001b[0;32m      7\u001b[0m \u001b[1;33m\u001b[0m\u001b[0m\n",
      "\u001b[1;32m~\\Anaconda3\\lib\\site-packages\\sklearn\\linear_model\\logistic.py\u001b[0m in \u001b[0;36mfit\u001b[1;34m(self, X, y, sample_weight)\u001b[0m\n\u001b[0;32m   1231\u001b[0m                 \u001b[0mself\u001b[0m\u001b[1;33m.\u001b[0m\u001b[0mclass_weight\u001b[0m\u001b[1;33m,\u001b[0m \u001b[0mself\u001b[0m\u001b[1;33m.\u001b[0m\u001b[0mpenalty\u001b[0m\u001b[1;33m,\u001b[0m \u001b[0mself\u001b[0m\u001b[1;33m.\u001b[0m\u001b[0mdual\u001b[0m\u001b[1;33m,\u001b[0m \u001b[0mself\u001b[0m\u001b[1;33m.\u001b[0m\u001b[0mverbose\u001b[0m\u001b[1;33m,\u001b[0m\u001b[1;33m\u001b[0m\u001b[0m\n\u001b[0;32m   1232\u001b[0m                 \u001b[0mself\u001b[0m\u001b[1;33m.\u001b[0m\u001b[0mmax_iter\u001b[0m\u001b[1;33m,\u001b[0m \u001b[0mself\u001b[0m\u001b[1;33m.\u001b[0m\u001b[0mtol\u001b[0m\u001b[1;33m,\u001b[0m \u001b[0mself\u001b[0m\u001b[1;33m.\u001b[0m\u001b[0mrandom_state\u001b[0m\u001b[1;33m,\u001b[0m\u001b[1;33m\u001b[0m\u001b[0m\n\u001b[1;32m-> 1233\u001b[1;33m                 sample_weight=sample_weight)\n\u001b[0m\u001b[0;32m   1234\u001b[0m             \u001b[0mself\u001b[0m\u001b[1;33m.\u001b[0m\u001b[0mn_iter_\u001b[0m \u001b[1;33m=\u001b[0m \u001b[0mnp\u001b[0m\u001b[1;33m.\u001b[0m\u001b[0marray\u001b[0m\u001b[1;33m(\u001b[0m\u001b[1;33m[\u001b[0m\u001b[0mn_iter_\u001b[0m\u001b[1;33m]\u001b[0m\u001b[1;33m)\u001b[0m\u001b[1;33m\u001b[0m\u001b[0m\n\u001b[0;32m   1235\u001b[0m             \u001b[1;32mreturn\u001b[0m \u001b[0mself\u001b[0m\u001b[1;33m\u001b[0m\u001b[0m\n",
      "\u001b[1;32m~\\Anaconda3\\lib\\site-packages\\sklearn\\svm\\base.py\u001b[0m in \u001b[0;36m_fit_liblinear\u001b[1;34m(X, y, C, fit_intercept, intercept_scaling, class_weight, penalty, dual, verbose, max_iter, tol, random_state, multi_class, loss, epsilon, sample_weight)\u001b[0m\n\u001b[0;32m    888\u001b[0m         \u001b[0mX\u001b[0m\u001b[1;33m,\u001b[0m \u001b[0my_ind\u001b[0m\u001b[1;33m,\u001b[0m \u001b[0msp\u001b[0m\u001b[1;33m.\u001b[0m\u001b[0misspmatrix\u001b[0m\u001b[1;33m(\u001b[0m\u001b[0mX\u001b[0m\u001b[1;33m)\u001b[0m\u001b[1;33m,\u001b[0m \u001b[0msolver_type\u001b[0m\u001b[1;33m,\u001b[0m \u001b[0mtol\u001b[0m\u001b[1;33m,\u001b[0m \u001b[0mbias\u001b[0m\u001b[1;33m,\u001b[0m \u001b[0mC\u001b[0m\u001b[1;33m,\u001b[0m\u001b[1;33m\u001b[0m\u001b[0m\n\u001b[0;32m    889\u001b[0m         \u001b[0mclass_weight_\u001b[0m\u001b[1;33m,\u001b[0m \u001b[0mmax_iter\u001b[0m\u001b[1;33m,\u001b[0m \u001b[0mrnd\u001b[0m\u001b[1;33m.\u001b[0m\u001b[0mrandint\u001b[0m\u001b[1;33m(\u001b[0m\u001b[0mnp\u001b[0m\u001b[1;33m.\u001b[0m\u001b[0miinfo\u001b[0m\u001b[1;33m(\u001b[0m\u001b[1;34m'i'\u001b[0m\u001b[1;33m)\u001b[0m\u001b[1;33m.\u001b[0m\u001b[0mmax\u001b[0m\u001b[1;33m)\u001b[0m\u001b[1;33m,\u001b[0m\u001b[1;33m\u001b[0m\u001b[0m\n\u001b[1;32m--> 890\u001b[1;33m         epsilon, sample_weight)\n\u001b[0m\u001b[0;32m    891\u001b[0m     \u001b[1;31m# Regarding rnd.randint(..) in the above signature:\u001b[0m\u001b[1;33m\u001b[0m\u001b[1;33m\u001b[0m\u001b[0m\n\u001b[0;32m    892\u001b[0m     \u001b[1;31m# seed for srand in range [0..INT_MAX); due to limitations in Numpy\u001b[0m\u001b[1;33m\u001b[0m\u001b[1;33m\u001b[0m\u001b[0m\n",
      "\u001b[1;31mKeyboardInterrupt\u001b[0m: "
     ]
    }
   ],
   "source": [
    "#prediction on testing data\n",
    "lr = LogisticRegression(C=0.1)\n",
    "for i in range(0,28):\n",
    "    \n",
    "    lr.fit(new_train, all_train_y.iloc[:,i]) #train\n",
    "    pred_y = lr.predict_proba(new_test)[:,1] #prediction on test set\n",
    "    \n",
    "    if i==0:\n",
    "        lr_ans = np.array([pred_y]).reshape(37092,1)\n",
    "    else:\n",
    "        lr_ans = np.concatenate((lr_ans, np.array([pred_y]).reshape(37092,1)), axis=1)"
   ]
  },
  {
   "cell_type": "code",
   "execution_count": null,
   "metadata": {},
   "outputs": [],
   "source": [
    "lr_ans.shape"
   ]
  },
  {
   "cell_type": "code",
   "execution_count": 112,
   "metadata": {},
   "outputs": [
    {
     "data": {
      "text/plain": [
       "array([[1., 1., 1., ..., 0., 0., 0.],\n",
       "       [0., 0., 0., ..., 0., 0., 0.],\n",
       "       [0., 0., 0., ..., 0., 0., 0.],\n",
       "       ...,\n",
       "       [0., 0., 0., ..., 0., 0., 0.],\n",
       "       [0., 0., 0., ..., 0., 0., 0.],\n",
       "       [0., 0., 0., ..., 0., 0., 0.]])"
      ]
     },
     "execution_count": 112,
     "metadata": {},
     "output_type": "execute_result"
    }
   ],
   "source": [
    "lr_ans"
   ]
  },
  {
   "cell_type": "code",
   "execution_count": 113,
   "metadata": {},
   "outputs": [],
   "source": [
    "write_result('logistic_new_feature_0803.csv', lr_ans) #0.64663"
   ]
  },
  {
   "cell_type": "markdown",
   "metadata": {},
   "source": [
    "## Random Forest"
   ]
  },
  {
   "cell_type": "code",
   "execution_count": null,
   "metadata": {},
   "outputs": [],
   "source": [
    "# Train model\n",
    "rf = RandomForestClassifier(random_state=10,n_jobs=-1,max_depth=5)\n",
    "\n",
    "for i in range(0,28):\n",
    "    rf.fit(train_data, train_label[:,i]) #train\n",
    "    pred_y = rf.predict_proba(valid_data)[:,1] #prediction on validation set\n",
    "    \n",
    "    print(\"i = %d\" % i)   \n",
    "    rf_roc_auc = roc_auc_score(valid_label[:,i], pred_y)\n",
    "    print(\"AUC: %5f\" % rf_roc_auc )"
   ]
  },
  {
   "cell_type": "code",
   "execution_count": 77,
   "metadata": {},
   "outputs": [],
   "source": [
    "# wirte prediction on test \n",
    "rf = RandomForestClassifier(random_state=10,n_jobs=-1,max_depth=5)\n",
    "\n",
    "for i in range(0,28):\n",
    "    \n",
    "    rf.fit(new_train, all_train_y.iloc[:,i]) #train\n",
    "    pred_y = rf.predict_proba(new_test)[:,1] #prediction on test set\n",
    "    \n",
    "    if i==0:\n",
    "        rf_ans = np.array([pred_y]).reshape(37092,1)\n",
    "    else:\n",
    "        rf_ans = np.concatenate((rf_ans, np.array([pred_y]).reshape(37092,1)), axis=1)"
   ]
  },
  {
   "cell_type": "code",
   "execution_count": 78,
   "metadata": {},
   "outputs": [
    {
     "data": {
      "text/plain": [
       "(37092, 28)"
      ]
     },
     "execution_count": 78,
     "metadata": {},
     "output_type": "execute_result"
    }
   ],
   "source": [
    "rf_ans.shape"
   ]
  },
  {
   "cell_type": "code",
   "execution_count": 21,
   "metadata": {},
   "outputs": [],
   "source": [
    "write_result('rf_new_feature2.csv', rf_ans)"
   ]
  },
  {
   "cell_type": "markdown",
   "metadata": {},
   "source": [
    "## XGBoost"
   ]
  },
  {
   "cell_type": "code",
   "execution_count": 43,
   "metadata": {},
   "outputs": [],
   "source": [
    "import xgboost as xgb"
   ]
  },
  {
   "cell_type": "code",
   "execution_count": 30,
   "metadata": {},
   "outputs": [],
   "source": [
    "train_data_size = dataset['train_eigens'].shape[0]\n",
    "valid_data_size = train_data_size // 5\n",
    "train_data_size = train_data_size - valid_data_size\n",
    "\n",
    "# NOTE: split dataset\n",
    "train_data = new_train.iloc[:train_data_size,:]\n",
    "valid_data = new_train.iloc[train_data_size:,:]\n",
    "\n",
    "#label\n",
    "train_label = train_labels[:train_data_size,:]\n",
    "valid_label = train_labels[train_data_size:,:]"
   ]
  },
  {
   "cell_type": "code",
   "execution_count": 45,
   "metadata": {
    "scrolled": true
   },
   "outputs": [
    {
     "name": "stdout",
     "output_type": "stream",
     "text": [
      "i = 0\n",
      "Plot ROC Curve:\n",
      "AUC: 0.868413\n",
      "i = 1\n",
      "Plot ROC Curve:\n",
      "AUC: 0.870696\n",
      "i = 2\n",
      "Plot ROC Curve:\n",
      "AUC: 0.890432\n",
      "i = 3\n",
      "Plot ROC Curve:\n",
      "AUC: 0.889365\n",
      "i = 4\n",
      "Plot ROC Curve:\n",
      "AUC: 0.867270\n",
      "i = 5\n",
      "Plot ROC Curve:\n",
      "AUC: 0.865238\n",
      "i = 6\n",
      "Plot ROC Curve:\n",
      "AUC: 0.871885\n",
      "i = 7\n",
      "Plot ROC Curve:\n",
      "AUC: 0.896977\n",
      "i = 8\n",
      "Plot ROC Curve:\n",
      "AUC: 0.865029\n",
      "i = 9\n",
      "Plot ROC Curve:\n",
      "AUC: 0.858913\n",
      "i = 10\n",
      "Plot ROC Curve:\n",
      "AUC: 0.873931\n",
      "i = 11\n",
      "Plot ROC Curve:\n",
      "AUC: 0.903446\n",
      "i = 12\n",
      "Plot ROC Curve:\n",
      "AUC: 0.868412\n",
      "i = 13\n",
      "Plot ROC Curve:\n",
      "AUC: 0.835525\n",
      "i = 14\n",
      "Plot ROC Curve:\n",
      "AUC: 0.860583\n",
      "i = 15\n",
      "Plot ROC Curve:\n",
      "AUC: 0.885560\n",
      "i = 16\n",
      "Plot ROC Curve:\n",
      "AUC: 0.851296\n",
      "i = 17\n",
      "Plot ROC Curve:\n",
      "AUC: 0.838430\n",
      "i = 18\n",
      "Plot ROC Curve:\n",
      "AUC: 0.839924\n",
      "i = 19\n",
      "Plot ROC Curve:\n",
      "AUC: 0.842448\n",
      "i = 20\n",
      "Plot ROC Curve:\n",
      "AUC: 0.820546\n",
      "i = 21\n",
      "Plot ROC Curve:\n",
      "AUC: 0.817366\n",
      "i = 22\n",
      "Plot ROC Curve:\n",
      "AUC: 0.822558\n",
      "i = 23\n",
      "Plot ROC Curve:\n",
      "AUC: 0.823617\n",
      "i = 24\n",
      "Plot ROC Curve:\n",
      "AUC: 0.817676\n",
      "i = 25\n",
      "Plot ROC Curve:\n",
      "AUC: 0.824826\n",
      "i = 26\n",
      "Plot ROC Curve:\n",
      "AUC: 0.831823\n",
      "i = 27\n",
      "Plot ROC Curve:\n",
      "AUC: 0.850087\n"
     ]
    }
   ],
   "source": [
    "for i in range(0,28):\n",
    "    \n",
    "    dtrain = xgb.DMatrix(train_data, label=train_label[:,i])\n",
    "    dtest = xgb.DMatrix(valid_data, label=valid_label[:,i])\n",
    "    param = {\n",
    "        'max_depth': 4,  # the maximum depth of each tree\n",
    "        'eta': 0.1,  # the training step for each iteration\n",
    "        'silent': 1,  # logging mode - quiet\n",
    "        'objective': \"binary:logistic\",  # error evaluation for multiclass training\n",
    "        'subsample': 0.7,\n",
    "        'colsample_bytree':0.7,\n",
    "        'scale_pos_weight':0.8\n",
    "    }  # the number of classes that exist in this datset\n",
    "    num_round = 30  # the number of training iterations\n",
    "\n",
    "    bst = xgb.train(param, dtrain, num_round)\n",
    "    \n",
    "    pred_y = bst.predict(dtest)\n",
    "    print(\"i = %d\" % i)\n",
    "    \n",
    "    print(\"Plot ROC Curve:\")\n",
    "    rf_roc_auc_xg = roc_auc_score(valid_label[:,i], pred_y)\n",
    "    print(\"AUC: %5f\" % rf_roc_auc_xg )"
   ]
  },
  {
   "cell_type": "code",
   "execution_count": 70,
   "metadata": {},
   "outputs": [],
   "source": [
    "for i in range(0,28):\n",
    "    \n",
    "    dtrain = xgb.DMatrix(new_train, label=all_train_y.iloc[:,i])\n",
    "    dtest = xgb.DMatrix(new_test)\n",
    "    param = {\n",
    "        'max_depth': 4,  # the maximum depth of each tree\n",
    "        'eta': 0.1,  # the training step for each iteration\n",
    "        'silent': 1,  # logging mode - quiet\n",
    "        'objective': \"binary:logistic\",  # error evaluation for multiclass training\n",
    "        'subsample': 0.7,\n",
    "        'colsample_bytree':0.7,\n",
    "        'scale_pos_weight':0.8\n",
    "    }  # the number of classes that exist in this datset\n",
    "    num_round = 20  # the number of training iterations\n",
    "\n",
    "    bst = xgb.train(param, dtrain, num_round)\n",
    "    \n",
    "    pred_y = bst.predict(dtest)\n",
    "    \n",
    "    if i==0:\n",
    "        xg_ans = np.array([pred_y]).reshape(-1,1)\n",
    "    else:\n",
    "        xg_ans = np.concatenate((xg_ans, np.array([pred_y]).reshape(-1,1)), axis=1)"
   ]
  },
  {
   "cell_type": "code",
   "execution_count": 71,
   "metadata": {},
   "outputs": [
    {
     "data": {
      "text/plain": [
       "(37092, 28)"
      ]
     },
     "execution_count": 71,
     "metadata": {},
     "output_type": "execute_result"
    }
   ],
   "source": [
    "xg_ans.shape"
   ]
  },
  {
   "cell_type": "code",
   "execution_count": 72,
   "metadata": {},
   "outputs": [
    {
     "data": {
      "text/plain": [
       "array([[0.59972715, 0.665579  , 0.4815127 , ..., 0.5395125 , 0.3147311 ,\n",
       "        0.11568728],\n",
       "       [0.13712314, 0.2026348 , 0.08579614, ..., 0.18484157, 0.08997382,\n",
       "        0.07197876],\n",
       "       [0.08039546, 0.08813655, 0.07207277, ..., 0.08960611, 0.0752398 ,\n",
       "        0.07072333],\n",
       "       ...,\n",
       "       [0.08083578, 0.09773013, 0.07207277, ..., 0.10771769, 0.0752398 ,\n",
       "        0.07072333],\n",
       "       [0.08867411, 0.09736079, 0.07207277, ..., 0.10310432, 0.0768294 ,\n",
       "        0.07072333],\n",
       "       [0.50005513, 0.25855422, 0.08713689, ..., 0.24006794, 0.09885231,\n",
       "        0.14248355]], dtype=float32)"
      ]
     },
     "execution_count": 72,
     "metadata": {},
     "output_type": "execute_result"
    }
   ],
   "source": [
    "xg_ans"
   ]
  },
  {
   "cell_type": "code",
   "execution_count": 49,
   "metadata": {},
   "outputs": [],
   "source": [
    "write_result('xgboost_new_feature_0803.csv', ans) # 08/03: 0.87475"
   ]
  },
  {
   "cell_type": "code",
   "execution_count": 56,
   "metadata": {},
   "outputs": [],
   "source": [
    "#write_result('xgboost_test2.csv', ans) # 08/01: 0.86563"
   ]
  },
  {
   "cell_type": "code",
   "execution_count": 55,
   "metadata": {},
   "outputs": [],
   "source": [
    "#write_result('xgboost_test.csv', ans) # 07/31: 0.86905"
   ]
  },
  {
   "cell_type": "markdown",
   "metadata": {},
   "source": [
    "#### LGBM"
   ]
  },
  {
   "cell_type": "code",
   "execution_count": 28,
   "metadata": {
    "ExecuteTime": {
     "end_time": "2018-08-07T09:36:27.221261Z",
     "start_time": "2018-08-07T09:36:27.200317Z"
    }
   },
   "outputs": [],
   "source": [
    "import lightgbm as lgb\n",
    "from statistics import mean"
   ]
  },
  {
   "cell_type": "code",
   "execution_count": 52,
   "metadata": {
    "ExecuteTime": {
     "end_time": "2018-08-07T11:47:52.440576Z",
     "start_time": "2018-08-07T11:47:52.435587Z"
    }
   },
   "outputs": [],
   "source": [
    "learn_rate = [0.070,0.074,0.078]\n",
    "depth = [61,71,81]"
   ]
  },
  {
   "cell_type": "code",
   "execution_count": 53,
   "metadata": {
    "ExecuteTime": {
     "end_time": "2018-08-07T12:12:18.431761Z",
     "start_time": "2018-08-07T11:47:53.423078Z"
    },
    "scrolled": false
   },
   "outputs": [
    {
     "name": "stdout",
     "output_type": "stream",
     "text": [
      "Learning rate: 0.07 \n",
      "num_leaves: 61 \n",
      "AUC: 0.8672\n",
      "Learning rate: 0.07 \n",
      "num_leaves: 71 \n",
      "AUC: 0.8677\n",
      "Learning rate: 0.07 \n",
      "num_leaves: 81 \n",
      "AUC: 0.8665\n",
      "Learning rate: 0.07 \n",
      "num_leaves: 61 \n",
      "AUC: 0.8675\n",
      "Learning rate: 0.07 \n",
      "num_leaves: 71 \n",
      "AUC: 0.8670\n",
      "Learning rate: 0.07 \n",
      "num_leaves: 81 \n",
      "AUC: 0.8671\n",
      "Learning rate: 0.08 \n",
      "num_leaves: 61 \n",
      "AUC: 0.8672\n",
      "Learning rate: 0.08 \n",
      "num_leaves: 71 \n",
      "AUC: 0.8669\n",
      "Learning rate: 0.08 \n",
      "num_leaves: 81 \n",
      "AUC: 0.8670\n"
     ]
    }
   ],
   "source": [
    "#Validation check AUC\n",
    "for i in range(0,len(learn_rate)):\n",
    "    for k in range(0,len(depth)):\n",
    "        roc_lg = 0\n",
    "        for j in range(0,28):\n",
    "\n",
    "            d_train = lgb.Dataset(train_data, label=train_label[:,j])\n",
    "\n",
    "            params = {}\n",
    "\n",
    "            params['learning_rate'] = learn_rate[i]\n",
    "            params['boosting_type'] = 'gbdt'\n",
    "            params['objective'] = 'binary'\n",
    "            params['metric'] = 'auc'\n",
    "            params['sub_feature'] = 0.7\n",
    "            params['num_leaves'] = depth[k]\n",
    "            params['min_data'] = 50\n",
    "            params['max_depth'] = -1\n",
    "\n",
    "            clf = lgb.train(params, d_train, 50)\n",
    "\n",
    "            #Prediction\n",
    "            pred_y = clf.predict(valid_data)\n",
    "\n",
    "            #print(\"j = %d\" % j)\n",
    "\n",
    "            #print(\"Plot ROC Curve:\")\n",
    "            if j==0:\n",
    "                roc_lg = roc_auc_score(valid_label[:,j], pred_y)\n",
    "            else:\n",
    "                roc_lg = np.c_[roc_lg, roc_auc_score(valid_label[:,j], pred_y)]\n",
    "        \n",
    "        roc = np.mean(roc_lg)\n",
    "        \n",
    "        print(\"Learning rate: %.3f \" % learn_rate[i])\n",
    "        print(\"num_leaves: %d \" % depth[k])\n",
    "        print(\"AUC: %.4f\" % roc)"
   ]
  },
  {
   "cell_type": "code",
   "execution_count": 62,
   "metadata": {
    "scrolled": true
   },
   "outputs": [
    {
     "name": "stdout",
     "output_type": "stream",
     "text": [
      "j = 0\n",
      "AUC: 0.878778\n",
      "j = 1\n",
      "AUC: 0.876818\n",
      "j = 2\n",
      "AUC: 0.904476\n",
      "j = 3\n",
      "AUC: 0.902020\n",
      "j = 4\n",
      "AUC: 0.876221\n",
      "j = 5\n",
      "AUC: 0.869831\n",
      "j = 6\n",
      "AUC: 0.883727\n",
      "j = 7\n",
      "AUC: 0.902756\n",
      "j = 8\n",
      "AUC: 0.872989\n",
      "j = 9\n",
      "AUC: 0.864335\n",
      "j = 10\n",
      "AUC: 0.882762\n",
      "j = 11\n",
      "AUC: 0.907063\n",
      "j = 12\n",
      "AUC: 0.874053\n",
      "j = 13\n",
      "AUC: 0.841368\n",
      "j = 14\n",
      "AUC: 0.871774\n",
      "j = 15\n",
      "AUC: 0.893516\n",
      "j = 16\n",
      "AUC: 0.861455\n",
      "j = 17\n",
      "AUC: 0.842411\n",
      "j = 18\n",
      "AUC: 0.858710\n",
      "j = 19\n",
      "AUC: 0.853395\n",
      "j = 20\n",
      "AUC: 0.826993\n",
      "j = 21\n",
      "AUC: 0.821574\n",
      "j = 22\n",
      "AUC: 0.839492\n",
      "j = 23\n",
      "AUC: 0.835664\n",
      "j = 24\n",
      "AUC: 0.823346\n",
      "j = 25\n",
      "AUC: 0.829331\n",
      "j = 26\n",
      "AUC: 0.845548\n",
      "j = 27\n",
      "AUC: 0.878318\n"
     ]
    }
   ],
   "source": [
    "#Validation check AUC\n",
    "for j in range(0,28):\n",
    "\n",
    "    d_train = lgb.Dataset(train_data, label=train_label[:,j])\n",
    "    \n",
    "    params = {}\n",
    "    \n",
    "    params['learning_rate'] = 0.05\n",
    "    params['boosting_type'] = 'gbdt'\n",
    "    params['objective'] = 'binary'\n",
    "    params['metric'] = 'binary_logloss'\n",
    "    params['sub_feature'] = 0.7\n",
    "    params['num_leaves'] = 51\n",
    "    params['min_data'] = 50\n",
    "    params['max_depth'] = -1\n",
    "    \n",
    "    clf = lgb.train(params, d_train, 50)\n",
    "    \n",
    "    #Prediction\n",
    "    pred_y = clf.predict(valid_data)\n",
    "\n",
    "    #print(\"j = %d\" % j)\n",
    "    \n",
    "    #print(\"Plot ROC Curve:\")\n",
    "    roc_auc_lg = roc_auc_score(valid_label[:,j], pred_y)\n",
    "    print(\"AUC: %5f\" % roc_auc_lg)"
   ]
  },
  {
   "cell_type": "code",
   "execution_count": 54,
   "metadata": {
    "ExecuteTime": {
     "end_time": "2018-08-07T12:32:01.927323Z",
     "start_time": "2018-08-07T12:13:22.407506Z"
    }
   },
   "outputs": [
    {
     "name": "stdout",
     "output_type": "stream",
     "text": [
      "j = 0\n",
      "j = 1\n",
      "j = 2\n",
      "j = 3\n",
      "j = 4\n",
      "j = 5\n",
      "j = 6\n",
      "j = 7\n",
      "j = 8\n",
      "j = 9\n",
      "j = 10\n",
      "j = 11\n",
      "j = 12\n",
      "j = 13\n",
      "j = 14\n",
      "j = 15\n",
      "j = 16\n",
      "j = 17\n",
      "j = 18\n",
      "j = 19\n",
      "j = 20\n",
      "j = 21\n",
      "j = 22\n",
      "j = 23\n",
      "j = 24\n",
      "j = 25\n",
      "j = 26\n",
      "j = 27\n"
     ]
    }
   ],
   "source": [
    "for j in range(0,28):\n",
    "    \n",
    "    print(\"j = %d\" % j)\n",
    "    d_train = lgb.Dataset(new_train, label=all_train_y.iloc[:,j])\n",
    "\n",
    "    params = {}\n",
    "    \n",
    "    params['learning_rate'] = 0.07\n",
    "    params['boosting_type'] = 'gbdt'\n",
    "    params['objective'] = 'binary'\n",
    "    params['metric'] = 'binary_logloss'\n",
    "    params['sub_feature'] = 0.7\n",
    "    params['num_leaves'] = 71\n",
    "    params['min_data'] = 50\n",
    "    params['max_depth'] = -1\n",
    "    \n",
    "    clf = lgb.train(params, d_train, 500)\n",
    "    \n",
    "    #Prediction\n",
    "    pred_y = clf.predict(new_test)\n",
    "\n",
    "    if j==0:\n",
    "        ans = np.array([pred_y]).reshape(-1,1)\n",
    "    else:\n",
    "        ans = np.concatenate((ans, np.array([pred_y]).reshape(-1,1)), axis=1)"
   ]
  },
  {
   "cell_type": "code",
   "execution_count": 55,
   "metadata": {
    "ExecuteTime": {
     "end_time": "2018-08-07T12:32:02.610783Z",
     "start_time": "2018-08-07T12:32:02.603802Z"
    }
   },
   "outputs": [
    {
     "data": {
      "text/plain": [
       "(37092, 28)"
      ]
     },
     "execution_count": 55,
     "metadata": {},
     "output_type": "execute_result"
    }
   ],
   "source": [
    "ans.shape"
   ]
  },
  {
   "cell_type": "code",
   "execution_count": 48,
   "metadata": {
    "ExecuteTime": {
     "end_time": "2018-08-07T11:20:14.762574Z",
     "start_time": "2018-08-07T11:20:14.755561Z"
    }
   },
   "outputs": [
    {
     "data": {
      "text/plain": [
       "array([[0.81152359, 0.79697921, 0.57278363, ..., 0.47399536, 0.26816297,\n",
       "        0.10824046],\n",
       "       [0.05270711, 0.22101988, 0.01936235, ..., 0.14388499, 0.02760276,\n",
       "        0.00534919],\n",
       "       [0.01041625, 0.01738729, 0.00436066, ..., 0.03278624, 0.00611473,\n",
       "        0.00271237],\n",
       "       ...,\n",
       "       [0.01243831, 0.03565887, 0.00471516, ..., 0.02908804, 0.0063904 ,\n",
       "        0.00319474],\n",
       "       [0.02173417, 0.02556303, 0.00794366, ..., 0.05137536, 0.01862341,\n",
       "        0.01621953],\n",
       "       [0.37905331, 0.18862668, 0.0097221 , ..., 0.26338505, 0.00515729,\n",
       "        0.23454511]])"
      ]
     },
     "execution_count": 48,
     "metadata": {},
     "output_type": "execute_result"
    }
   ],
   "source": [
    "ans"
   ]
  },
  {
   "cell_type": "code",
   "execution_count": 56,
   "metadata": {
    "ExecuteTime": {
     "end_time": "2018-08-07T12:32:04.942981Z",
     "start_time": "2018-08-07T12:32:03.188862Z"
    }
   },
   "outputs": [],
   "source": [
    "write_result('LGBM_new_feature_0807_3.csv', ans) #0.883"
   ]
  },
  {
   "cell_type": "code",
   "execution_count": 80,
   "metadata": {},
   "outputs": [
    {
     "data": {
      "text/plain": [
       "array([0.62079917, 0.50849424, 0.19009618, 0.12625895, 0.6603199 ,\n",
       "       0.5180822 , 0.26165201, 0.1608525 , 0.65643804, 0.56911885,\n",
       "       0.25214492, 0.21608081, 0.64815623, 0.53646505, 0.20883716,\n",
       "       0.18016346, 0.58329303, 0.53680887, 0.20793879, 0.07713431,\n",
       "       0.33938123, 0.37686095, 0.19018085, 0.09200974, 0.41307636,\n",
       "       0.43068324, 0.2560959 , 0.05565103])"
      ]
     },
     "execution_count": 80,
     "metadata": {},
     "output_type": "execute_result"
    }
   ],
   "source": [
    "rf_ans[0,:]"
   ]
  },
  {
   "cell_type": "code",
   "execution_count": 82,
   "metadata": {},
   "outputs": [
    {
     "data": {
      "text/plain": [
       "array([0.59972715, 0.665579  , 0.4815127 , 0.19161338, 0.6598043 ,\n",
       "       0.692936  , 0.33800346, 0.1257573 , 0.6274808 , 0.64631313,\n",
       "       0.30412063, 0.20228615, 0.6412565 , 0.57783175, 0.35228893,\n",
       "       0.17958137, 0.58169794, 0.5544403 , 0.30058512, 0.21654655,\n",
       "       0.41111672, 0.44264752, 0.30104288, 0.16451016, 0.38954622,\n",
       "       0.5395125 , 0.3147311 , 0.11568728], dtype=float32)"
      ]
     },
     "execution_count": 82,
     "metadata": {},
     "output_type": "execute_result"
    }
   ],
   "source": [
    "xg_ans[0,:]"
   ]
  },
  {
   "cell_type": "code",
   "execution_count": 83,
   "metadata": {},
   "outputs": [
    {
     "data": {
      "text/plain": [
       "array([0.78955391, 0.73962246, 0.61242014, 0.18142379, 0.77425714,\n",
       "       0.71959609, 0.51884437, 0.17438887, 0.7277571 , 0.72119237,\n",
       "       0.34550866, 0.25456072, 0.66621283, 0.65367898, 0.44219292,\n",
       "       0.2845832 , 0.72972767, 0.57727268, 0.30973541, 0.16156919,\n",
       "       0.39528763, 0.47629519, 0.30391021, 0.17052081, 0.50841805,\n",
       "       0.58414816, 0.48284403, 0.09978883])"
      ]
     },
     "execution_count": 83,
     "metadata": {},
     "output_type": "execute_result"
    }
   ],
   "source": [
    "ans[0,:]"
   ]
  },
  {
   "cell_type": "code",
   "execution_count": 85,
   "metadata": {},
   "outputs": [],
   "source": [
    "def probability_to_rank(prediction, scaler=1):\n",
    "    pred_df=pd.DataFrame(columns=['probability'])\n",
    "    pred_df['probability']=prediction\n",
    "    pred_df['rank']=pred_df['probability'].rank()/len(prediction)*scaler\n",
    "    return pred_df['rank'].values"
   ]
  },
  {
   "cell_type": "code",
   "execution_count": 86,
   "metadata": {},
   "outputs": [
    {
     "data": {
      "text/plain": [
       "array([1.        , 0.92857143, 0.67857143, 0.17857143, 0.96428571,\n",
       "       0.78571429, 0.57142857, 0.14285714, 0.85714286, 0.82142857,\n",
       "       0.35714286, 0.21428571, 0.75      , 0.71428571, 0.42857143,\n",
       "       0.25      , 0.89285714, 0.60714286, 0.32142857, 0.07142857,\n",
       "       0.39285714, 0.46428571, 0.28571429, 0.10714286, 0.53571429,\n",
       "       0.64285714, 0.5       , 0.03571429])"
      ]
     },
     "execution_count": 86,
     "metadata": {},
     "output_type": "execute_result"
    }
   ],
   "source": [
    "probability_to_rank(ans[0,:],1)"
   ]
  },
  {
   "cell_type": "markdown",
   "metadata": {},
   "source": [
    "#### Sequential"
   ]
  },
  {
   "cell_type": "code",
   "execution_count": 45,
   "metadata": {},
   "outputs": [
    {
     "data": {
      "text/plain": [
       "(30000, 140)"
      ]
     },
     "execution_count": 45,
     "metadata": {},
     "output_type": "execute_result"
    }
   ],
   "source": [
    "import random\n",
    "sample = random.sample(range(0,train_data.shape[0]), 30000) #人數太多跑不動，因此採用抽樣方式\n",
    "sample_v = random.sample(range(0,valid_data.shape[0]), 10000) #人數太多跑不動，因此採用抽樣方式\n",
    "\n",
    "all_d = train_data[sample,784:]\n",
    "all_valid = valid_data[sample_v,784:]\n",
    "all_d.shape"
   ]
  },
  {
   "cell_type": "code",
   "execution_count": 46,
   "metadata": {},
   "outputs": [
    {
     "data": {
      "text/plain": [
       "45728"
      ]
     },
     "execution_count": 46,
     "metadata": {},
     "output_type": "execute_result"
    }
   ],
   "source": [
    "train_data.shape[0]"
   ]
  },
  {
   "cell_type": "code",
   "execution_count": 47,
   "metadata": {},
   "outputs": [
    {
     "data": {
      "text/plain": [
       "(10000, 140)"
      ]
     },
     "execution_count": 47,
     "metadata": {},
     "output_type": "execute_result"
    }
   ],
   "source": [
    "all_valid.shape"
   ]
  },
  {
   "cell_type": "code",
   "execution_count": 48,
   "metadata": {},
   "outputs": [],
   "source": [
    "result = [] #train\n",
    "for i in range(0,all_d.shape[0]):\n",
    "    for index in range(0,28):\n",
    "        result.append(all_d[i,index: index + 113])"
   ]
  },
  {
   "cell_type": "code",
   "execution_count": 49,
   "metadata": {},
   "outputs": [],
   "source": [
    "result2 = [] #validation\n",
    "for i in range(0,all_valid.shape[0]):\n",
    "    for index in range(0,28):\n",
    "        result2.append(all_valid[i,index: index + 113])"
   ]
  },
  {
   "cell_type": "code",
   "execution_count": 50,
   "metadata": {},
   "outputs": [],
   "source": [
    "test = [] #test_data\n",
    "for i in range(0,test_eigens.shape[0]):\n",
    "    for index in range(0,28):\n",
    "        test.append(test_eigens[i,index: index + 112])"
   ]
  },
  {
   "cell_type": "code",
   "execution_count": 51,
   "metadata": {},
   "outputs": [],
   "source": [
    "result = np.array(result)\n",
    "result2 = np.array(result2)"
   ]
  },
  {
   "cell_type": "code",
   "execution_count": 52,
   "metadata": {},
   "outputs": [
    {
     "data": {
      "text/plain": [
       "(840000, 113)"
      ]
     },
     "execution_count": 52,
     "metadata": {},
     "output_type": "execute_result"
    }
   ],
   "source": [
    "result.shape"
   ]
  },
  {
   "cell_type": "code",
   "execution_count": 53,
   "metadata": {},
   "outputs": [
    {
     "data": {
      "text/plain": [
       "(280000, 113)"
      ]
     },
     "execution_count": 53,
     "metadata": {},
     "output_type": "execute_result"
    }
   ],
   "source": [
    "result2.shape"
   ]
  },
  {
   "cell_type": "code",
   "execution_count": 54,
   "metadata": {},
   "outputs": [
    {
     "data": {
      "text/plain": [
       "(1038576, 112)"
      ]
     },
     "execution_count": 54,
     "metadata": {},
     "output_type": "execute_result"
    }
   ],
   "source": [
    "test = np.array(test)\n",
    "test.shape"
   ]
  },
  {
   "cell_type": "code",
   "execution_count": 55,
   "metadata": {},
   "outputs": [],
   "source": [
    "np.random.shuffle(result)\n",
    "np.random.shuffle(result2)\n",
    "X_train = result[:, :-1]\n",
    "y_train = result[:, -1]\n",
    "X_valid = result2[:, :-1]\n",
    "y_valid = result2[:, -1]"
   ]
  },
  {
   "cell_type": "code",
   "execution_count": 56,
   "metadata": {},
   "outputs": [
    {
     "data": {
      "text/plain": [
       "(840000, 112)"
      ]
     },
     "execution_count": 56,
     "metadata": {},
     "output_type": "execute_result"
    }
   ],
   "source": [
    "X_train.shape"
   ]
  },
  {
   "cell_type": "code",
   "execution_count": 57,
   "metadata": {
    "scrolled": true
   },
   "outputs": [
    {
     "name": "stdout",
     "output_type": "stream",
     "text": [
      "<class 'numpy.ndarray'>\n",
      "Confusion Matrix: \n",
      "Classification Report:\n",
      "             precision    recall  f1-score   support\n",
      "\n",
      "        0.0       0.94      0.99      0.96    254257\n",
      "        1.0       0.72      0.37      0.49     25743\n",
      "\n",
      "avg / total       0.92      0.93      0.92    280000\n",
      "\n",
      "Plot ROC Curve:\n"
     ]
    },
    {
     "data": {
      "image/png": "[encoded data removed]",
      "text/plain": [
       "<Figure size 432x288 with 2 Axes>"
      ]
     },
     "metadata": {},
     "output_type": "display_data"
    },
    {
     "data": {
      "image/png": "[encoded data removed]",
      "text/plain": [
       "<Figure size 432x288 with 1 Axes>"
      ]
     },
     "metadata": {},
     "output_type": "display_data"
    }
   ],
   "source": [
    "import xgboost as xgb\n",
    "\n",
    "dtrain = xgb.DMatrix(X_train, label=y_train)\n",
    "dtest = xgb.DMatrix(X_valid, label=y_valid)\n",
    "param = {\n",
    "    'max_depth': 5,  # the maximum depth of each tree\n",
    "    'eta': 0.1,  # the training step for each iteration\n",
    "    'silent': 1,  # logging mode - quiet\n",
    "    'objective': \"binary:logistic\",  # error evaluation for multiclass training\n",
    "    'subsample': 0.65,\n",
    "    'colsample_bytree':0.7,\n",
    "    'scale_pos_weight':0.9\n",
    "}  # the number of classes that exist in this datset\n",
    "num_round = 20  # the number of training iterations\n",
    "\n",
    "bst = xgb.train(param, dtrain, num_round)\n",
    "\n",
    "pred_y = bst.predict(dtest)\n",
    "print(type(pred_y))\n",
    "\n",
    "print(\"Confusion Matrix: \")\n",
    "\n",
    "from sklearn.metrics import confusion_matrix\n",
    "cm = confusion_matrix(y_valid, (pred_y > .5).astype(int))\n",
    "df_cm = pd.DataFrame(cm, range(2), range(2))\n",
    "sns.set(font_scale=1.4) #for label size\n",
    "sns.heatmap(df_cm, annot=True,annot_kws={\"size\": 16},cmap=\"YlGnBu\")# font size\n",
    "plt.ylabel('True label')\n",
    "plt.xlabel('Predicted label')\n",
    "\n",
    "from sklearn.metrics import classification_report\n",
    "print(\"Classification Report:\")\n",
    "print(classification_report( y_valid, (pred_y > .5).astype(int) ))\n",
    "\n",
    "#print(\"Precision-Recall Curve:\")\n",
    "#precision_recall_curve(df_valid, df_valid_y.iloc[:,i])\n",
    "\n",
    "print(\"Plot ROC Curve:\")\n",
    "rf_roc_auc_xg = roc_auc_score( y_valid, pred_y )\n",
    "fpr_xg, tpr_xg, thresholds_xg = roc_curve( y_valid, pred_y )\n",
    "plt.figure()\n",
    "plt.plot(fpr_xg, tpr_xg, label='XGboost (area = %0.2f)' % rf_roc_auc_xg)\n",
    "plt.plot([0, 1], [0, 1],'r--')\n",
    "plt.xlim([0.0, 1.0])\n",
    "plt.ylim([0.0, 1.05])\n",
    "plt.xlabel('False Positive Rate')\n",
    "plt.ylabel('True Positive Rate')\n",
    "plt.title('Receiver operating characteristic')\n",
    "plt.legend(loc=\"lower right\")\n",
    "plt.savefig('XGboost_ROC')\n",
    "plt.show()"
   ]
  },
  {
   "cell_type": "code",
   "execution_count": 58,
   "metadata": {},
   "outputs": [],
   "source": [
    "X_train = np.concatenate((X_train, X_valid), axis=0)\n",
    "y_train = np.concatenate((y_train, y_valid), axis=0)"
   ]
  },
  {
   "cell_type": "code",
   "execution_count": 59,
   "metadata": {
    "scrolled": false
   },
   "outputs": [
    {
     "name": "stdout",
     "output_type": "stream",
     "text": [
      "0\n",
      "1\n"
     ]
    }
   ],
   "source": [
    "param = {\n",
    "    'max_depth': 5,  # the maximum depth of each tree\n",
    "    'eta': 0.1,  # the training step for each iteration\n",
    "    'silent': 1,  # logging mode - quiet\n",
    "    'objective': \"binary:logistic\",  # error evaluation for multiclass training\n",
    "    'subsample': 0.65,\n",
    "    'colsample_bytree':0.7,\n",
    "    'scale_pos_weight':0.9\n",
    "}  # the number of classes that exist in this datset\n",
    "num_round = 20  # the number of training iterations\n",
    "\n",
    "dtrain = xgb.DMatrix(X_train, label=y_train)\n",
    "bst = xgb.train(param, dtrain, num_round)\n",
    "\n",
    "for i in range(0,28):\n",
    "    if i==0:\n",
    "        #dtrain = xgb.DMatrix(X_train, label=y_train)\n",
    "        print(i)\n",
    "        dtest = xgb.DMatrix(test[ np.array([x for x in range(0, 1038576, 28)]) , i:])\n",
    "        pred_y = bst.predict(dtest)\n",
    "        ans = np.array([pred_y]).reshape(37092,1)\n",
    "    elif i==1:\n",
    "        print(i)\n",
    "        t = np.concatenate(( test[np.array([x for x in range(i, 1038576, 28)]), i:], pred_y.reshape(37092,1) ), axis=1)\n",
    "        dtest = xgb.DMatrix(t)\n",
    "        pred_y = bst.predict(dtest)\n",
    "        ans = np.concatenate((ans, np.array([pred_y]).reshape(37092,1)), axis=1)\n",
    "    else:\n",
    "        t = np.concatenate((t[:, 1:], pred_y.reshape(37092,1) ), axis=1)\n",
    "        dtest = xgb.DMatrix(t)\n",
    "        pred_y = bst.predict(dtest)\n",
    "        ans = np.concatenate((ans, np.array([pred_y]).reshape(37092,1)), axis=1)"
   ]
  },
  {
   "cell_type": "code",
   "execution_count": 60,
   "metadata": {},
   "outputs": [
    {
     "data": {
      "text/plain": [
       "(37092, 28)"
      ]
     },
     "execution_count": 60,
     "metadata": {},
     "output_type": "execute_result"
    }
   ],
   "source": [
    "ans.shape"
   ]
  },
  {
   "cell_type": "code",
   "execution_count": 61,
   "metadata": {},
   "outputs": [],
   "source": [
    "write_result('sequential_test_2.csv', ans) #0.55566"
   ]
  },
  {
   "cell_type": "code",
   "execution_count": 41,
   "metadata": {},
   "outputs": [],
   "source": [
    "write_result('sequential_test.csv', ans) #0.55781"
   ]
  },
  {
   "cell_type": "code",
   "execution_count": null,
   "metadata": {},
   "outputs": [],
   "source": []
  }
 ],
 "metadata": {
  "kernelspec": {
   "display_name": "Python 3",
   "language": "python",
   "name": "python3"
  },
  "language_info": {
   "codemirror_mode": {
    "name": "ipython",
    "version": 3
   },
   "file_extension": ".py",
   "mimetype": "text/x-python",
   "name": "python",
   "nbconvert_exporter": "python",
   "pygments_lexer": "ipython3",
   "version": "3.7.1"
  },
  "toc": {
   "base_numbering": 1,
   "nav_menu": {},
   "number_sections": true,
   "sideBar": true,
   "skip_h1_title": false,
   "title_cell": "Table of Contents",
   "title_sidebar": "Contents",
   "toc_cell": false,
   "toc_position": {},
   "toc_section_display": true,
   "toc_window_display": false
  },
  "varInspector": {
   "cols": {
    "lenName": 16,
    "lenType": 16,
    "lenVar": 40
   },
   "kernels_config": {
    "python": {
     "delete_cmd_postfix": "",
     "delete_cmd_prefix": "del ",
     "library": "var_list.py",
     "varRefreshCmd": "print(var_dic_list())"
    },
    "r": {
     "delete_cmd_postfix": ") ",
     "delete_cmd_prefix": "rm(",
     "library": "var_list.r",
     "varRefreshCmd": "cat(var_dic_list()) "
    }
   },
   "types_to_exclude": [
    "module",
    "function",
    "builtin_function_or_method",
    "instance",
    "_Feature"
   ],
   "window_display": false
  }
 },
 "nbformat": 4,
 "nbformat_minor": 2
}
